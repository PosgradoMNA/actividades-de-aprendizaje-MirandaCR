{
 "cells": [
  {
   "cell_type": "markdown",
   "metadata": {
    "id": "WUO-kdryVQwK"
   },
   "source": [
    "# TECNOLOGICO DE MONTEREY\n",
    "## Actividad Semanal -- 7 Regresiones\n",
    "### Maria de La Paz Rico\n",
    "\n",
    "Noviembre - 2022\n",
    "\n",
    " Cristian Miranda - A01793718\n"
   ]
  },
  {
   "cell_type": "code",
   "execution_count": 26,
   "metadata": {
    "id": "HMp_I4Y6VQwN"
   },
   "outputs": [],
   "source": [
    "import numpy as np\n",
    "%matplotlib inline\n",
    "import matplotlib\n",
    "import matplotlib.pyplot as plt\n",
    "import pandas as pd\n",
    "import seaborn as sns\n",
    "\n",
    "# Sklearn\n",
    "from sklearn.preprocessing import PolynomialFeatures\n",
    "from sklearn.model_selection import train_test_split\n",
    "from sklearn.metrics import r2_score, mean_absolute_error, mean_squared_error\n",
    "from sklearn.linear_model import Ridge,Lasso,LinearRegression"
   ]
  },
  {
   "cell_type": "markdown",
   "metadata": {
    "id": "nTKFj4x9LMXm"
   },
   "source": [
    "# Ejercicio 1\n",
    "\n",
    "**Costo en la industria de manufactura. Ahora realizaremos los ejercicios de regresión utilizando una parte para entrenar y otra para evaluar.**\n",
    "\n",
    "Utiliza la base de datos de \n",
    "https://www.kaggle.com/vinicius150987/manufacturing-cost\n",
    "\n",
    "Suponga que trabaja como consultor de una empresa de nueva creación que busca desarrollar un modelo para estimar el costo de los bienes vendidos a medida que varían el volumen de producción (número de unidades producidas). La startup recopiló datos y le pidió que desarrollara un modelo para predecir su costo frente a la cantidad de unidades vendidas."
   ]
  },
  {
   "cell_type": "code",
   "execution_count": 21,
   "metadata": {
    "colab": {
     "base_uri": "https://localhost:8080/",
     "height": 363
    },
    "id": "oTnErQOkL3oa",
    "outputId": "52622ce8-8aca-44fe-afe4-b50d0784225c"
   },
   "outputs": [
    {
     "name": "stdout",
     "output_type": "stream",
     "text": [
      "(1000, 2)\n"
     ]
    },
    {
     "data": {
      "text/html": [
       "<div>\n",
       "<style scoped>\n",
       "    .dataframe tbody tr th:only-of-type {\n",
       "        vertical-align: middle;\n",
       "    }\n",
       "\n",
       "    .dataframe tbody tr th {\n",
       "        vertical-align: top;\n",
       "    }\n",
       "\n",
       "    .dataframe thead th {\n",
       "        text-align: right;\n",
       "    }\n",
       "</style>\n",
       "<table border=\"1\" class=\"dataframe\">\n",
       "  <thead>\n",
       "    <tr style=\"text-align: right;\">\n",
       "      <th></th>\n",
       "      <th>Number of Units</th>\n",
       "      <th>Manufacturing Cost</th>\n",
       "    </tr>\n",
       "  </thead>\n",
       "  <tbody>\n",
       "    <tr>\n",
       "      <th>93</th>\n",
       "      <td>6.128389</td>\n",
       "      <td>29.321686</td>\n",
       "    </tr>\n",
       "    <tr>\n",
       "      <th>692</th>\n",
       "      <td>4.797410</td>\n",
       "      <td>42.534884</td>\n",
       "    </tr>\n",
       "    <tr>\n",
       "      <th>100</th>\n",
       "      <td>4.615855</td>\n",
       "      <td>29.621427</td>\n",
       "    </tr>\n",
       "    <tr>\n",
       "      <th>562</th>\n",
       "      <td>4.051577</td>\n",
       "      <td>39.644420</td>\n",
       "    </tr>\n",
       "    <tr>\n",
       "      <th>729</th>\n",
       "      <td>4.548429</td>\n",
       "      <td>43.816361</td>\n",
       "    </tr>\n",
       "    <tr>\n",
       "      <th>924</th>\n",
       "      <td>2.566028</td>\n",
       "      <td>55.103556</td>\n",
       "    </tr>\n",
       "    <tr>\n",
       "      <th>393</th>\n",
       "      <td>4.859392</td>\n",
       "      <td>36.102705</td>\n",
       "    </tr>\n",
       "    <tr>\n",
       "      <th>685</th>\n",
       "      <td>4.663495</td>\n",
       "      <td>42.261471</td>\n",
       "    </tr>\n",
       "    <tr>\n",
       "      <th>738</th>\n",
       "      <td>4.262271</td>\n",
       "      <td>44.140036</td>\n",
       "    </tr>\n",
       "    <tr>\n",
       "      <th>264</th>\n",
       "      <td>4.950786</td>\n",
       "      <td>33.223241</td>\n",
       "    </tr>\n",
       "  </tbody>\n",
       "</table>\n",
       "</div>"
      ],
      "text/plain": [
       "     Number of Units  Manufacturing Cost\n",
       "93          6.128389           29.321686\n",
       "692         4.797410           42.534884\n",
       "100         4.615855           29.621427\n",
       "562         4.051577           39.644420\n",
       "729         4.548429           43.816361\n",
       "924         2.566028           55.103556\n",
       "393         4.859392           36.102705\n",
       "685         4.663495           42.261471\n",
       "738         4.262271           44.140036\n",
       "264         4.950786           33.223241"
      ]
     },
     "execution_count": 21,
     "metadata": {},
     "output_type": "execute_result"
    }
   ],
   "source": [
    "# Lectura de datos\n",
    "df = pd.read_csv('https://raw.githubusercontent.com/marypazrf/bdd/main/EconomiesOfScale.csv')\n",
    "df = df.sort_values(by=['Manufacturing Cost'],ascending=True,ignore_index=True)\n",
    "print(df.shape)\n",
    "df.sample(10)"
   ]
  },
  {
   "cell_type": "code",
   "execution_count": 22,
   "metadata": {},
   "outputs": [
    {
     "data": {
      "text/html": [
       "<div>\n",
       "<style scoped>\n",
       "    .dataframe tbody tr th:only-of-type {\n",
       "        vertical-align: middle;\n",
       "    }\n",
       "\n",
       "    .dataframe tbody tr th {\n",
       "        vertical-align: top;\n",
       "    }\n",
       "\n",
       "    .dataframe thead th {\n",
       "        text-align: right;\n",
       "    }\n",
       "</style>\n",
       "<table border=\"1\" class=\"dataframe\">\n",
       "  <thead>\n",
       "    <tr style=\"text-align: right;\">\n",
       "      <th></th>\n",
       "      <th>count</th>\n",
       "      <th>mean</th>\n",
       "      <th>std</th>\n",
       "      <th>min</th>\n",
       "      <th>25%</th>\n",
       "      <th>50%</th>\n",
       "      <th>75%</th>\n",
       "      <th>max</th>\n",
       "    </tr>\n",
       "  </thead>\n",
       "  <tbody>\n",
       "    <tr>\n",
       "      <th>Number of Units</th>\n",
       "      <td>1000.0</td>\n",
       "      <td>4.472799</td>\n",
       "      <td>1.336241</td>\n",
       "      <td>1.0</td>\n",
       "      <td>3.594214</td>\n",
       "      <td>4.435958</td>\n",
       "      <td>5.324780</td>\n",
       "      <td>10.0</td>\n",
       "    </tr>\n",
       "    <tr>\n",
       "      <th>Manufacturing Cost</th>\n",
       "      <td>1000.0</td>\n",
       "      <td>40.052999</td>\n",
       "      <td>10.595322</td>\n",
       "      <td>20.0</td>\n",
       "      <td>32.912036</td>\n",
       "      <td>38.345781</td>\n",
       "      <td>44.531822</td>\n",
       "      <td>100.0</td>\n",
       "    </tr>\n",
       "  </tbody>\n",
       "</table>\n",
       "</div>"
      ],
      "text/plain": [
       "                     count       mean        std   min        25%        50%  \\\n",
       "Number of Units     1000.0   4.472799   1.336241   1.0   3.594214   4.435958   \n",
       "Manufacturing Cost  1000.0  40.052999  10.595322  20.0  32.912036  38.345781   \n",
       "\n",
       "                          75%    max  \n",
       "Number of Units      5.324780   10.0  \n",
       "Manufacturing Cost  44.531822  100.0  "
      ]
     },
     "execution_count": 22,
     "metadata": {},
     "output_type": "execute_result"
    }
   ],
   "source": [
    "# Estadistica descriptiva\n",
    "df.describe().transpose()"
   ]
  },
  {
   "cell_type": "code",
   "execution_count": 27,
   "metadata": {
    "id": "14kGO5nkMGlV"
   },
   "outputs": [
    {
     "data": {
      "image/png": "[encoded data removed]",
      "text/plain": [
       "<Figure size 432x288 with 1 Axes>"
      ]
     },
     "metadata": {
      "needs_background": "light"
     },
     "output_type": "display_data"
    }
   ],
   "source": [
    "# Seleccion de variables\n",
    "X = df[['Number of Units']]\n",
    "y = df['Manufacturing Cost']\n",
    "\n",
    "# Grafica de datos\n",
    "plt.plot(X,y,'b.')\n",
    "plt.title('Distribucion')\n",
    "plt.show()"
   ]
  },
  {
   "cell_type": "markdown",
   "metadata": {
    "colab": {
     "base_uri": "https://localhost:8080/"
    },
    "id": "ksh_OrkjY3GW",
    "outputId": "2455aae4-2df4-45dd-f6ad-d768abc62342"
   },
   "source": [
    "#### Divide los datos del costo de manufactura."
   ]
  },
  {
   "cell_type": "code",
   "execution_count": 28,
   "metadata": {
    "colab": {
     "base_uri": "https://localhost:8080/"
    },
    "id": "bwR6SSqQDfC2",
    "outputId": "2537f2f9-3321-4e78-b735-70d8293dce7c"
   },
   "outputs": [
    {
     "name": "stdout",
     "output_type": "stream",
     "text": [
      "X de entrenamiento: (900, 1)\n",
      "y de entrenamiento: (900,)\n",
      "X de test: (100, 1)\n",
      "y de test: (100,)\n"
     ]
    }
   ],
   "source": [
    "X_train, X_test, y_train, y_test = train_test_split(X, y, test_size = 0.1, random_state = 101)\n",
    "\n",
    "print('X de entrenamiento:',X_train.shape)\n",
    "print('y de entrenamiento:',y_train.shape)\n",
    "print('X de test:',X_test.shape)\n",
    "print('y de test:',y_test.shape)"
   ]
  },
  {
   "cell_type": "markdown",
   "metadata": {},
   "source": [
    "#### Regresión Lineal.\n",
    "Realiza la regresión lineal: modelo generado (ecuación), su visualización, sus errores y r cuadrada"
   ]
  },
  {
   "cell_type": "code",
   "execution_count": 41,
   "metadata": {
    "id": "kMmOy97puOLE"
   },
   "outputs": [
    {
     "data": {
      "text/plain": [
       "(66.91753072224289, array([-6.02200968]))"
      ]
     },
     "execution_count": 41,
     "metadata": {},
     "output_type": "execute_result"
    }
   ],
   "source": [
    "#lineal\n",
    "linear_reg = LinearRegression(fit_intercept=True)\n",
    "linear_reg.fit(X_train, y_train)\n",
    "\n",
    "y_pred = linear_reg.predict(X_train)\n",
    "\n",
    "linear_reg.intercept_, linear_reg.coef_"
   ]
  },
  {
   "cell_type": "markdown",
   "metadata": {},
   "source": [
    "Modelo estimado:\n",
    "\n",
    "$\\hat{y} =  66.92 - 6.02X$"
   ]
  },
  {
   "cell_type": "code",
   "execution_count": 42,
   "metadata": {},
   "outputs": [
    {
     "data": {
      "image/png": "[encoded data removed]",
      "text/plain": [
       "<Figure size 432x288 with 1 Axes>"
      ]
     },
     "metadata": {
      "needs_background": "light"
     },
     "output_type": "display_data"
    }
   ],
   "source": [
    "# construct best fit line\n",
    "plt.scatter(X, y)\n",
    "plt.plot(X_train, y_pred, \"r-\", linewidth=2, label=\"Predictions\")\n",
    "plt.xlabel(\"$X$\", fontsize=18)\n",
    "plt.ylabel(\"$y$\", rotation=0, fontsize=18)\n",
    "plt.legend(loc=\"upper left\", fontsize=14);"
   ]
  },
  {
   "cell_type": "code",
   "execution_count": 45,
   "metadata": {},
   "outputs": [
    {
     "name": "stdout",
     "output_type": "stream",
     "text": [
      "Error medio Absoluto (MAE): 4.91\n",
      "Root Mean Squared Error: 6.87\n",
      "r2_score 0.57\n"
     ]
    }
   ],
   "source": [
    "# Errores\n",
    "mae_lm = mean_absolute_error(y_train, y_pred).round(2)\n",
    "rmse_lm = np.sqrt(mean_squared_error(y_train, y_pred)).round(2)\n",
    "r2_lm = r2_score(y_train, y_pred).round(2)\n",
    "\n",
    "print('Error medio Absoluto (MAE):',mae_lm )\n",
    "print('Root Mean Squared Error:', rmse_lm )\n",
    "print('r2_score',r2_lm)"
   ]
  },
  {
   "cell_type": "markdown",
   "metadata": {
    "id": "LWvfEDGKuoLJ"
   },
   "source": [
    "#### Regresión Polinomial.\n",
    "Realiza la  regresión polinomial completa, tu modelo generado (ecuación), su visualización, sus errores y r cuadrada."
   ]
  },
  {
   "cell_type": "code",
   "execution_count": 46,
   "metadata": {},
   "outputs": [
    {
     "data": {
      "text/plain": [
       "(89.34650478154224, array([-16.68498748,   1.16065075]))"
      ]
     },
     "execution_count": 46,
     "metadata": {},
     "output_type": "execute_result"
    }
   ],
   "source": [
    "# Polinomial 2\n",
    "poly_features = PolynomialFeatures(degree=2, include_bias=False)\n",
    "X_poly = poly_features.fit_transform(X_train)\n",
    "\n",
    "linear_reg.fit(X_poly, y_train)\n",
    "\n",
    "y_pred_poly = linear_reg.predict(X_poly)\n",
    "\n",
    "linear_reg.intercept_, linear_reg.coef_"
   ]
  },
  {
   "cell_type": "markdown",
   "metadata": {},
   "source": [
    "Modelo estimado:\n",
    "\n",
    "$\\hat{y} =  89.35 - 16.68X + 1.16X^2$"
   ]
  },
  {
   "cell_type": "code",
   "execution_count": 63,
   "metadata": {},
   "outputs": [
    {
     "data": {
      "image/png": "[encoded data removed]",
      "text/plain": [
       "<Figure size 432x288 with 1 Axes>"
      ]
     },
     "metadata": {
      "needs_background": "light"
     },
     "output_type": "display_data"
    }
   ],
   "source": [
    "# construct best fit line\n",
    "df_pol = pd.DataFrame({ 'x_pol':X_train['Number of Units'],\n",
    "                        'y_pol':y_pred_poly\n",
    "                        } )\n",
    "\n",
    "df_pol = df_pol.sort_values(by=['x_pol'],ascending=True)\n",
    "\n",
    "plt.scatter(X, y)\n",
    "plt.plot(df_pol['x_pol'], df_pol['y_pol'], \"r-\", linewidth=2, label=\"Predictions\")\n",
    "plt.xlabel(\"$X$\", fontsize=18)\n",
    "plt.ylabel(\"$y$\", rotation=0, fontsize=18)\n",
    "plt.legend(loc=\"upper left\", fontsize=14);"
   ]
  },
  {
   "cell_type": "code",
   "execution_count": null,
   "metadata": {},
   "outputs": [],
   "source": []
  },
  {
   "cell_type": "code",
   "execution_count": 64,
   "metadata": {},
   "outputs": [
    {
     "name": "stdout",
     "output_type": "stream",
     "text": [
      "Error medio Absoluto (MAE): 4.52\n",
      "Root Mean Squared Error: 6.15\n",
      "r2_score 0.66\n"
     ]
    }
   ],
   "source": [
    "# Errores\n",
    "mae_pol = mean_absolute_error(y_train, y_pred_poly).round(2)\n",
    "rmse_pol = np.sqrt(mean_squared_error(y_train, y_pred_poly)).round(2)\n",
    "r2_pol = r2_score(y_train, y_pred_poly).round(2)\n",
    "\n",
    "print('Error medio Absoluto (MAE):',mae_pol )\n",
    "print('Root Mean Squared Error:', rmse_pol )\n",
    "print('r2_score',r2_pol)"
   ]
  },
  {
   "cell_type": "markdown",
   "metadata": {},
   "source": [
    "#### Realiza la regresión con Ridge y Lasso. Incluye la ecuación de tu modelo, visualización , errores y r cuadrada."
   ]
  },
  {
   "cell_type": "markdown",
   "metadata": {},
   "source": [
    "##### **Ridge**"
   ]
  },
  {
   "cell_type": "code",
   "execution_count": 81,
   "metadata": {},
   "outputs": [
    {
     "data": {
      "text/plain": [
       "(66.91736095757275, array([-6.02197164]))"
      ]
     },
     "execution_count": 81,
     "metadata": {},
     "output_type": "execute_result"
    }
   ],
   "source": [
    "# Ridge\n",
    "ridge_reg = Ridge(alpha=0.01)\n",
    "ridge_reg.fit(X_train,y_train)\n",
    "y_pred_ridge = ridge_reg.predict(X_train)\n",
    "\n",
    "ridge_reg.intercept_, ridge_reg.coef_"
   ]
  },
  {
   "cell_type": "markdown",
   "metadata": {},
   "source": [
    "Modelo estimado:\n",
    "\n",
    "$\\hat{y} =  66.92 - 6.02X$"
   ]
  },
  {
   "cell_type": "code",
   "execution_count": 74,
   "metadata": {},
   "outputs": [
    {
     "data": {
      "image/png": "[encoded data removed]",
      "text/plain": [
       "<Figure size 432x288 with 1 Axes>"
      ]
     },
     "metadata": {
      "needs_background": "light"
     },
     "output_type": "display_data"
    }
   ],
   "source": [
    "# construct best fit line\n",
    "plt.scatter(X, y)\n",
    "plt.plot(X_train, y_pred_ridge, \"r-\", linewidth=2, label=\"Predictions\")\n",
    "plt.xlabel(\"$X$\", fontsize=18)\n",
    "plt.ylabel(\"$y$\", rotation=0, fontsize=18)\n",
    "plt.legend(loc=\"upper left\", fontsize=14);"
   ]
  },
  {
   "cell_type": "code",
   "execution_count": 76,
   "metadata": {},
   "outputs": [
    {
     "name": "stdout",
     "output_type": "stream",
     "text": [
      "Error medio Absoluto (MAE): 4.91\n",
      "Root Mean Squared Error: 6.87\n",
      "r2_score 0.57\n"
     ]
    }
   ],
   "source": [
    "# Errores\n",
    "mae_ridge = mean_absolute_error(y_train, y_pred_ridge).round(2)\n",
    "rmse_ridge = np.sqrt(mean_squared_error(y_train, y_pred_ridge)).round(2)\n",
    "r2_ridge = r2_score(y_train, y_pred_ridge).round(2)\n",
    "\n",
    "print('Error medio Absoluto (MAE):',mae_ridge )\n",
    "print('Root Mean Squared Error:', rmse_ridge )\n",
    "print('r2_score',r2_ridge)"
   ]
  },
  {
   "cell_type": "markdown",
   "metadata": {},
   "source": [
    "#### **Lasso**"
   ]
  },
  {
   "cell_type": "code",
   "execution_count": 86,
   "metadata": {},
   "outputs": [
    {
     "data": {
      "text/plain": [
       "(41.545740185553825, array([-0.33704617]))"
      ]
     },
     "execution_count": 86,
     "metadata": {},
     "output_type": "execute_result"
    }
   ],
   "source": [
    "# Lasso\n",
    "lasso_reg = Lasso(alpha=10)\n",
    "lasso_reg.fit(X_train,y_train)\n",
    "y_pred_lasso = lasso_reg.predict(X_train)\n",
    "\n",
    "lasso_reg.intercept_, lasso_reg.coef_"
   ]
  },
  {
   "cell_type": "markdown",
   "metadata": {},
   "source": [
    "Modelo estimado:\n",
    "\n",
    "$\\hat{y} =  41.55 - 0.34X $"
   ]
  },
  {
   "cell_type": "code",
   "execution_count": 87,
   "metadata": {},
   "outputs": [
    {
     "data": {
      "image/png": "[encoded data removed]",
      "text/plain": [
       "<Figure size 432x288 with 1 Axes>"
      ]
     },
     "metadata": {
      "needs_background": "light"
     },
     "output_type": "display_data"
    }
   ],
   "source": [
    "# construct best fit line\n",
    "plt.scatter(X, y)\n",
    "plt.plot(X_train, y_pred_lasso, \"r-\", linewidth=2, label=\"Predictions\")\n",
    "plt.xlabel(\"$X$\", fontsize=18)\n",
    "plt.ylabel(\"$y$\", rotation=0, fontsize=18)\n",
    "plt.legend(loc=\"upper left\", fontsize=14);"
   ]
  },
  {
   "cell_type": "code",
   "execution_count": 88,
   "metadata": {},
   "outputs": [
    {
     "name": "stdout",
     "output_type": "stream",
     "text": [
      "Error medio Absoluto (MAE): 7.28\n",
      "Root Mean Squared Error: 10.2\n",
      "r2_score 0.06\n"
     ]
    }
   ],
   "source": [
    "# Errores\n",
    "mae_lasso = mean_absolute_error(y_train, y_pred_lasso).round(2)\n",
    "rmse_lasso = np.sqrt(mean_squared_error(y_train, y_pred_lasso)).round(2)\n",
    "r2_lasso = r2_score(y_train, y_pred_lasso).round(2)\n",
    "\n",
    "print('Error medio Absoluto (MAE):',mae_lasso )\n",
    "print('Root Mean Squared Error:', rmse_lasso )\n",
    "print('r2_score',r2_lasso)"
   ]
  },
  {
   "cell_type": "markdown",
   "metadata": {},
   "source": [
    "**Finalmente grafica:  \n",
    "MAE (de los cuatro métodos)  \n",
    "R2 (de los cuatro métodos)**"
   ]
  },
  {
   "cell_type": "code",
   "execution_count": 111,
   "metadata": {},
   "outputs": [
    {
     "data": {
      "text/html": [
       "<div>\n",
       "<style scoped>\n",
       "    .dataframe tbody tr th:only-of-type {\n",
       "        vertical-align: middle;\n",
       "    }\n",
       "\n",
       "    .dataframe tbody tr th {\n",
       "        vertical-align: top;\n",
       "    }\n",
       "\n",
       "    .dataframe thead th {\n",
       "        text-align: right;\n",
       "    }\n",
       "</style>\n",
       "<table border=\"1\" class=\"dataframe\">\n",
       "  <thead>\n",
       "    <tr style=\"text-align: right;\">\n",
       "      <th></th>\n",
       "      <th>MODELO</th>\n",
       "      <th>MAE</th>\n",
       "      <th>R2</th>\n",
       "    </tr>\n",
       "  </thead>\n",
       "  <tbody>\n",
       "    <tr>\n",
       "      <th>0</th>\n",
       "      <td>LR</td>\n",
       "      <td>4.91</td>\n",
       "      <td>0.57</td>\n",
       "    </tr>\n",
       "    <tr>\n",
       "      <th>1</th>\n",
       "      <td>Polinomial</td>\n",
       "      <td>4.52</td>\n",
       "      <td>0.66</td>\n",
       "    </tr>\n",
       "    <tr>\n",
       "      <th>2</th>\n",
       "      <td>Ridge</td>\n",
       "      <td>4.91</td>\n",
       "      <td>0.57</td>\n",
       "    </tr>\n",
       "    <tr>\n",
       "      <th>3</th>\n",
       "      <td>Lasso</td>\n",
       "      <td>7.28</td>\n",
       "      <td>0.06</td>\n",
       "    </tr>\n",
       "  </tbody>\n",
       "</table>\n",
       "</div>"
      ],
      "text/plain": [
       "       MODELO   MAE    R2\n",
       "0          LR  4.91  0.57\n",
       "1  Polinomial  4.52  0.66\n",
       "2       Ridge  4.91  0.57\n",
       "3       Lasso  7.28  0.06"
      ]
     },
     "execution_count": 111,
     "metadata": {},
     "output_type": "execute_result"
    }
   ],
   "source": [
    "a =pd.DataFrame(\n",
    "    {'MODELO':['LR','Polinomial','Ridge','Lasso'],\n",
    "'MAE':[mae_lm, mae_pol ,mae_ridge,mae_lasso],\n",
    "'R2':[r2_lm, r2_pol ,r2_ridge,r2_lasso]}\n",
    ")\n",
    "a.head()"
   ]
  },
  {
   "cell_type": "code",
   "execution_count": 116,
   "metadata": {},
   "outputs": [
    {
     "data": {
      "image/png": "[encoded data removed]",
      "text/plain": [
       "<Figure size 432x288 with 1 Axes>"
      ]
     },
     "metadata": {
      "needs_background": "light"
     },
     "output_type": "display_data"
    }
   ],
   "source": [
    "sns.barplot(data=a, x=\"MODELO\", y=\"MAE\")\n",
    "plt.title('MAE por Modelo')\n",
    "plt.show()"
   ]
  },
  {
   "cell_type": "code",
   "execution_count": 117,
   "metadata": {},
   "outputs": [
    {
     "data": {
      "image/png": "[encoded data removed]",
      "text/plain": [
       "<Figure size 432x288 with 1 Axes>"
      ]
     },
     "metadata": {
      "needs_background": "light"
     },
     "output_type": "display_data"
    }
   ],
   "source": [
    "sns.barplot(data=a, x=\"MODELO\", y=\"R2\")\n",
    "plt.title('R2 por Modelo')\n",
    "plt.show()"
   ]
  },
  {
   "cell_type": "markdown",
   "metadata": {},
   "source": [
    "**Explica tus resultados, que método conviene más a la empresa, ¿por que?, ¿que porcentajes de entrenamiento y evaluación usaste?, ¿que error tienes?, ¿es bueno?, ¿cómo lo sabes?**"
   ]
  },
  {
   "cell_type": "markdown",
   "metadata": {
    "id": "0faHrN8-rv9V"
   },
   "source": [
    "La distribución de los datos refrejaban una tendencia no lineal por lo que el modelo con mejor performance en efecto es el modelo polinomial de 2o grado. Esto se evidencia incluso en las gráficas de R2 y MAE que deberian ser Altas y bajas respectivamente por lo que es el método que más le conviene a la empresa.\n",
    "\n",
    "El porcentaje de entrenamiento y test fue de 90% y 10% respectivamente. En cuanto a los errores, se evidencia que para el modelo polinomía fue menor y es relativamente bueno ya que el R2 es alto"
   ]
  },
  {
   "cell_type": "markdown",
   "metadata": {},
   "source": [
    "# Ejercicio 2\n",
    "\n",
    "Encuentra el mejor regresor para los datos de las casas:"
   ]
  },
  {
   "cell_type": "code",
   "execution_count": 119,
   "metadata": {},
   "outputs": [
    {
     "data": {
      "text/html": [
       "<div>\n",
       "<style scoped>\n",
       "    .dataframe tbody tr th:only-of-type {\n",
       "        vertical-align: middle;\n",
       "    }\n",
       "\n",
       "    .dataframe tbody tr th {\n",
       "        vertical-align: top;\n",
       "    }\n",
       "\n",
       "    .dataframe thead th {\n",
       "        text-align: right;\n",
       "    }\n",
       "</style>\n",
       "<table border=\"1\" class=\"dataframe\">\n",
       "  <thead>\n",
       "    <tr style=\"text-align: right;\">\n",
       "      <th></th>\n",
       "      <th>id</th>\n",
       "      <th>date</th>\n",
       "      <th>price</th>\n",
       "      <th>bedrooms</th>\n",
       "      <th>bathrooms</th>\n",
       "      <th>sqft_living</th>\n",
       "      <th>sqft_lot</th>\n",
       "      <th>floors</th>\n",
       "      <th>waterfront</th>\n",
       "      <th>view</th>\n",
       "      <th>...</th>\n",
       "      <th>grade</th>\n",
       "      <th>sqft_above</th>\n",
       "      <th>sqft_basement</th>\n",
       "      <th>yr_built</th>\n",
       "      <th>yr_renovated</th>\n",
       "      <th>zipcode</th>\n",
       "      <th>lat</th>\n",
       "      <th>long</th>\n",
       "      <th>sqft_living15</th>\n",
       "      <th>sqft_lot15</th>\n",
       "    </tr>\n",
       "  </thead>\n",
       "  <tbody>\n",
       "    <tr>\n",
       "      <th>9722</th>\n",
       "      <td>8691410310</td>\n",
       "      <td>20150213T000000</td>\n",
       "      <td>680000.0</td>\n",
       "      <td>4</td>\n",
       "      <td>2.50</td>\n",
       "      <td>3290</td>\n",
       "      <td>6012</td>\n",
       "      <td>2.0</td>\n",
       "      <td>0</td>\n",
       "      <td>0</td>\n",
       "      <td>...</td>\n",
       "      <td>9</td>\n",
       "      <td>3290</td>\n",
       "      <td>0</td>\n",
       "      <td>2005</td>\n",
       "      <td>0</td>\n",
       "      <td>98075</td>\n",
       "      <td>47.5961</td>\n",
       "      <td>-121.980</td>\n",
       "      <td>3210</td>\n",
       "      <td>6005</td>\n",
       "    </tr>\n",
       "    <tr>\n",
       "      <th>5199</th>\n",
       "      <td>3475000080</td>\n",
       "      <td>20140828T000000</td>\n",
       "      <td>710000.0</td>\n",
       "      <td>3</td>\n",
       "      <td>2.00</td>\n",
       "      <td>1780</td>\n",
       "      <td>9732</td>\n",
       "      <td>1.0</td>\n",
       "      <td>0</td>\n",
       "      <td>0</td>\n",
       "      <td>...</td>\n",
       "      <td>8</td>\n",
       "      <td>1780</td>\n",
       "      <td>0</td>\n",
       "      <td>1967</td>\n",
       "      <td>0</td>\n",
       "      <td>98040</td>\n",
       "      <td>47.5796</td>\n",
       "      <td>-122.229</td>\n",
       "      <td>1900</td>\n",
       "      <td>10200</td>\n",
       "    </tr>\n",
       "    <tr>\n",
       "      <th>11104</th>\n",
       "      <td>1088800060</td>\n",
       "      <td>20141105T000000</td>\n",
       "      <td>575000.0</td>\n",
       "      <td>3</td>\n",
       "      <td>2.50</td>\n",
       "      <td>2270</td>\n",
       "      <td>9600</td>\n",
       "      <td>2.0</td>\n",
       "      <td>0</td>\n",
       "      <td>0</td>\n",
       "      <td>...</td>\n",
       "      <td>9</td>\n",
       "      <td>2270</td>\n",
       "      <td>0</td>\n",
       "      <td>1990</td>\n",
       "      <td>0</td>\n",
       "      <td>98011</td>\n",
       "      <td>47.7388</td>\n",
       "      <td>-122.206</td>\n",
       "      <td>2580</td>\n",
       "      <td>9617</td>\n",
       "    </tr>\n",
       "    <tr>\n",
       "      <th>11852</th>\n",
       "      <td>2241700075</td>\n",
       "      <td>20141022T000000</td>\n",
       "      <td>310000.0</td>\n",
       "      <td>3</td>\n",
       "      <td>1.00</td>\n",
       "      <td>1180</td>\n",
       "      <td>8474</td>\n",
       "      <td>1.5</td>\n",
       "      <td>0</td>\n",
       "      <td>0</td>\n",
       "      <td>...</td>\n",
       "      <td>7</td>\n",
       "      <td>1180</td>\n",
       "      <td>0</td>\n",
       "      <td>1956</td>\n",
       "      <td>0</td>\n",
       "      <td>98155</td>\n",
       "      <td>47.7416</td>\n",
       "      <td>-122.327</td>\n",
       "      <td>1180</td>\n",
       "      <td>7200</td>\n",
       "    </tr>\n",
       "    <tr>\n",
       "      <th>3501</th>\n",
       "      <td>5525400300</td>\n",
       "      <td>20140521T000000</td>\n",
       "      <td>619420.0</td>\n",
       "      <td>4</td>\n",
       "      <td>2.75</td>\n",
       "      <td>2450</td>\n",
       "      <td>14803</td>\n",
       "      <td>2.0</td>\n",
       "      <td>0</td>\n",
       "      <td>0</td>\n",
       "      <td>...</td>\n",
       "      <td>9</td>\n",
       "      <td>2450</td>\n",
       "      <td>0</td>\n",
       "      <td>1988</td>\n",
       "      <td>0</td>\n",
       "      <td>98059</td>\n",
       "      <td>47.5261</td>\n",
       "      <td>-122.162</td>\n",
       "      <td>2330</td>\n",
       "      <td>14803</td>\n",
       "    </tr>\n",
       "    <tr>\n",
       "      <th>20030</th>\n",
       "      <td>3814900750</td>\n",
       "      <td>20140716T000000</td>\n",
       "      <td>399440.0</td>\n",
       "      <td>4</td>\n",
       "      <td>2.50</td>\n",
       "      <td>2311</td>\n",
       "      <td>4396</td>\n",
       "      <td>2.0</td>\n",
       "      <td>0</td>\n",
       "      <td>0</td>\n",
       "      <td>...</td>\n",
       "      <td>9</td>\n",
       "      <td>2311</td>\n",
       "      <td>0</td>\n",
       "      <td>2014</td>\n",
       "      <td>0</td>\n",
       "      <td>98092</td>\n",
       "      <td>47.3276</td>\n",
       "      <td>-122.163</td>\n",
       "      <td>2458</td>\n",
       "      <td>4616</td>\n",
       "    </tr>\n",
       "    <tr>\n",
       "      <th>6418</th>\n",
       "      <td>5569700020</td>\n",
       "      <td>20140730T000000</td>\n",
       "      <td>795000.0</td>\n",
       "      <td>4</td>\n",
       "      <td>2.50</td>\n",
       "      <td>3230</td>\n",
       "      <td>19193</td>\n",
       "      <td>1.0</td>\n",
       "      <td>0</td>\n",
       "      <td>3</td>\n",
       "      <td>...</td>\n",
       "      <td>8</td>\n",
       "      <td>2000</td>\n",
       "      <td>1230</td>\n",
       "      <td>1973</td>\n",
       "      <td>0</td>\n",
       "      <td>98075</td>\n",
       "      <td>47.5755</td>\n",
       "      <td>-122.070</td>\n",
       "      <td>3230</td>\n",
       "      <td>13420</td>\n",
       "    </tr>\n",
       "    <tr>\n",
       "      <th>5746</th>\n",
       "      <td>9542801310</td>\n",
       "      <td>20150513T000000</td>\n",
       "      <td>267000.0</td>\n",
       "      <td>3</td>\n",
       "      <td>2.25</td>\n",
       "      <td>2510</td>\n",
       "      <td>9900</td>\n",
       "      <td>1.0</td>\n",
       "      <td>0</td>\n",
       "      <td>0</td>\n",
       "      <td>...</td>\n",
       "      <td>8</td>\n",
       "      <td>1610</td>\n",
       "      <td>900</td>\n",
       "      <td>1978</td>\n",
       "      <td>0</td>\n",
       "      <td>98023</td>\n",
       "      <td>47.2988</td>\n",
       "      <td>-122.374</td>\n",
       "      <td>1940</td>\n",
       "      <td>8510</td>\n",
       "    </tr>\n",
       "    <tr>\n",
       "      <th>7439</th>\n",
       "      <td>8044700010</td>\n",
       "      <td>20150427T000000</td>\n",
       "      <td>630000.0</td>\n",
       "      <td>3</td>\n",
       "      <td>1.75</td>\n",
       "      <td>1940</td>\n",
       "      <td>7306</td>\n",
       "      <td>1.0</td>\n",
       "      <td>0</td>\n",
       "      <td>0</td>\n",
       "      <td>...</td>\n",
       "      <td>8</td>\n",
       "      <td>1470</td>\n",
       "      <td>470</td>\n",
       "      <td>1982</td>\n",
       "      <td>0</td>\n",
       "      <td>98052</td>\n",
       "      <td>47.6632</td>\n",
       "      <td>-122.153</td>\n",
       "      <td>2360</td>\n",
       "      <td>8865</td>\n",
       "    </tr>\n",
       "    <tr>\n",
       "      <th>15776</th>\n",
       "      <td>5528600050</td>\n",
       "      <td>20150211T000000</td>\n",
       "      <td>546000.0</td>\n",
       "      <td>2</td>\n",
       "      <td>1.00</td>\n",
       "      <td>1200</td>\n",
       "      <td>12856</td>\n",
       "      <td>1.0</td>\n",
       "      <td>0</td>\n",
       "      <td>0</td>\n",
       "      <td>...</td>\n",
       "      <td>6</td>\n",
       "      <td>1200</td>\n",
       "      <td>0</td>\n",
       "      <td>1948</td>\n",
       "      <td>0</td>\n",
       "      <td>98027</td>\n",
       "      <td>47.5321</td>\n",
       "      <td>-122.034</td>\n",
       "      <td>1740</td>\n",
       "      <td>6098</td>\n",
       "    </tr>\n",
       "  </tbody>\n",
       "</table>\n",
       "<p>10 rows × 21 columns</p>\n",
       "</div>"
      ],
      "text/plain": [
       "               id             date     price  bedrooms  bathrooms  \\\n",
       "9722   8691410310  20150213T000000  680000.0         4       2.50   \n",
       "5199   3475000080  20140828T000000  710000.0         3       2.00   \n",
       "11104  1088800060  20141105T000000  575000.0         3       2.50   \n",
       "11852  2241700075  20141022T000000  310000.0         3       1.00   \n",
       "3501   5525400300  20140521T000000  619420.0         4       2.75   \n",
       "20030  3814900750  20140716T000000  399440.0         4       2.50   \n",
       "6418   5569700020  20140730T000000  795000.0         4       2.50   \n",
       "5746   9542801310  20150513T000000  267000.0         3       2.25   \n",
       "7439   8044700010  20150427T000000  630000.0         3       1.75   \n",
       "15776  5528600050  20150211T000000  546000.0         2       1.00   \n",
       "\n",
       "       sqft_living  sqft_lot  floors  waterfront  view  ...  grade  \\\n",
       "9722          3290      6012     2.0           0     0  ...      9   \n",
       "5199          1780      9732     1.0           0     0  ...      8   \n",
       "11104         2270      9600     2.0           0     0  ...      9   \n",
       "11852         1180      8474     1.5           0     0  ...      7   \n",
       "3501          2450     14803     2.0           0     0  ...      9   \n",
       "20030         2311      4396     2.0           0     0  ...      9   \n",
       "6418          3230     19193     1.0           0     3  ...      8   \n",
       "5746          2510      9900     1.0           0     0  ...      8   \n",
       "7439          1940      7306     1.0           0     0  ...      8   \n",
       "15776         1200     12856     1.0           0     0  ...      6   \n",
       "\n",
       "       sqft_above  sqft_basement  yr_built  yr_renovated  zipcode      lat  \\\n",
       "9722         3290              0      2005             0    98075  47.5961   \n",
       "5199         1780              0      1967             0    98040  47.5796   \n",
       "11104        2270              0      1990             0    98011  47.7388   \n",
       "11852        1180              0      1956             0    98155  47.7416   \n",
       "3501         2450              0      1988             0    98059  47.5261   \n",
       "20030        2311              0      2014             0    98092  47.3276   \n",
       "6418         2000           1230      1973             0    98075  47.5755   \n",
       "5746         1610            900      1978             0    98023  47.2988   \n",
       "7439         1470            470      1982             0    98052  47.6632   \n",
       "15776        1200              0      1948             0    98027  47.5321   \n",
       "\n",
       "          long  sqft_living15  sqft_lot15  \n",
       "9722  -121.980           3210        6005  \n",
       "5199  -122.229           1900       10200  \n",
       "11104 -122.206           2580        9617  \n",
       "11852 -122.327           1180        7200  \n",
       "3501  -122.162           2330       14803  \n",
       "20030 -122.163           2458        4616  \n",
       "6418  -122.070           3230       13420  \n",
       "5746  -122.374           1940        8510  \n",
       "7439  -122.153           2360        8865  \n",
       "15776 -122.034           1740        6098  \n",
       "\n",
       "[10 rows x 21 columns]"
      ]
     },
     "execution_count": 119,
     "metadata": {},
     "output_type": "execute_result"
    }
   ],
   "source": [
    "df = pd.read_csv('https://raw.githubusercontent.com/marypazrf/bdd/main/kc_house_data.csv')\n",
    "df.sample(10)"
   ]
  },
  {
   "cell_type": "code",
   "execution_count": 121,
   "metadata": {},
   "outputs": [
    {
     "data": {
      "text/html": [
       "<div>\n",
       "<style scoped>\n",
       "    .dataframe tbody tr th:only-of-type {\n",
       "        vertical-align: middle;\n",
       "    }\n",
       "\n",
       "    .dataframe tbody tr th {\n",
       "        vertical-align: top;\n",
       "    }\n",
       "\n",
       "    .dataframe thead th {\n",
       "        text-align: right;\n",
       "    }\n",
       "</style>\n",
       "<table border=\"1\" class=\"dataframe\">\n",
       "  <thead>\n",
       "    <tr style=\"text-align: right;\">\n",
       "      <th></th>\n",
       "      <th>count</th>\n",
       "      <th>mean</th>\n",
       "      <th>std</th>\n",
       "      <th>min</th>\n",
       "      <th>25%</th>\n",
       "      <th>50%</th>\n",
       "      <th>75%</th>\n",
       "      <th>max</th>\n",
       "    </tr>\n",
       "  </thead>\n",
       "  <tbody>\n",
       "    <tr>\n",
       "      <th>id</th>\n",
       "      <td>21613.0</td>\n",
       "      <td>4.580302e+09</td>\n",
       "      <td>2.876566e+09</td>\n",
       "      <td>1.000102e+06</td>\n",
       "      <td>2.123049e+09</td>\n",
       "      <td>3.904930e+09</td>\n",
       "      <td>7.308900e+09</td>\n",
       "      <td>9.900000e+09</td>\n",
       "    </tr>\n",
       "    <tr>\n",
       "      <th>price</th>\n",
       "      <td>21613.0</td>\n",
       "      <td>5.400881e+05</td>\n",
       "      <td>3.671272e+05</td>\n",
       "      <td>7.500000e+04</td>\n",
       "      <td>3.219500e+05</td>\n",
       "      <td>4.500000e+05</td>\n",
       "      <td>6.450000e+05</td>\n",
       "      <td>7.700000e+06</td>\n",
       "    </tr>\n",
       "    <tr>\n",
       "      <th>bedrooms</th>\n",
       "      <td>21613.0</td>\n",
       "      <td>3.370842e+00</td>\n",
       "      <td>9.300618e-01</td>\n",
       "      <td>0.000000e+00</td>\n",
       "      <td>3.000000e+00</td>\n",
       "      <td>3.000000e+00</td>\n",
       "      <td>4.000000e+00</td>\n",
       "      <td>3.300000e+01</td>\n",
       "    </tr>\n",
       "    <tr>\n",
       "      <th>bathrooms</th>\n",
       "      <td>21613.0</td>\n",
       "      <td>2.114757e+00</td>\n",
       "      <td>7.701632e-01</td>\n",
       "      <td>0.000000e+00</td>\n",
       "      <td>1.750000e+00</td>\n",
       "      <td>2.250000e+00</td>\n",
       "      <td>2.500000e+00</td>\n",
       "      <td>8.000000e+00</td>\n",
       "    </tr>\n",
       "    <tr>\n",
       "      <th>sqft_living</th>\n",
       "      <td>21613.0</td>\n",
       "      <td>2.079900e+03</td>\n",
       "      <td>9.184409e+02</td>\n",
       "      <td>2.900000e+02</td>\n",
       "      <td>1.427000e+03</td>\n",
       "      <td>1.910000e+03</td>\n",
       "      <td>2.550000e+03</td>\n",
       "      <td>1.354000e+04</td>\n",
       "    </tr>\n",
       "    <tr>\n",
       "      <th>sqft_lot</th>\n",
       "      <td>21613.0</td>\n",
       "      <td>1.510697e+04</td>\n",
       "      <td>4.142051e+04</td>\n",
       "      <td>5.200000e+02</td>\n",
       "      <td>5.040000e+03</td>\n",
       "      <td>7.618000e+03</td>\n",
       "      <td>1.068800e+04</td>\n",
       "      <td>1.651359e+06</td>\n",
       "    </tr>\n",
       "    <tr>\n",
       "      <th>floors</th>\n",
       "      <td>21613.0</td>\n",
       "      <td>1.494309e+00</td>\n",
       "      <td>5.399889e-01</td>\n",
       "      <td>1.000000e+00</td>\n",
       "      <td>1.000000e+00</td>\n",
       "      <td>1.500000e+00</td>\n",
       "      <td>2.000000e+00</td>\n",
       "      <td>3.500000e+00</td>\n",
       "    </tr>\n",
       "    <tr>\n",
       "      <th>waterfront</th>\n",
       "      <td>21613.0</td>\n",
       "      <td>7.541757e-03</td>\n",
       "      <td>8.651720e-02</td>\n",
       "      <td>0.000000e+00</td>\n",
       "      <td>0.000000e+00</td>\n",
       "      <td>0.000000e+00</td>\n",
       "      <td>0.000000e+00</td>\n",
       "      <td>1.000000e+00</td>\n",
       "    </tr>\n",
       "    <tr>\n",
       "      <th>view</th>\n",
       "      <td>21613.0</td>\n",
       "      <td>2.343034e-01</td>\n",
       "      <td>7.663176e-01</td>\n",
       "      <td>0.000000e+00</td>\n",
       "      <td>0.000000e+00</td>\n",
       "      <td>0.000000e+00</td>\n",
       "      <td>0.000000e+00</td>\n",
       "      <td>4.000000e+00</td>\n",
       "    </tr>\n",
       "    <tr>\n",
       "      <th>condition</th>\n",
       "      <td>21613.0</td>\n",
       "      <td>3.409430e+00</td>\n",
       "      <td>6.507430e-01</td>\n",
       "      <td>1.000000e+00</td>\n",
       "      <td>3.000000e+00</td>\n",
       "      <td>3.000000e+00</td>\n",
       "      <td>4.000000e+00</td>\n",
       "      <td>5.000000e+00</td>\n",
       "    </tr>\n",
       "    <tr>\n",
       "      <th>grade</th>\n",
       "      <td>21613.0</td>\n",
       "      <td>7.656873e+00</td>\n",
       "      <td>1.175459e+00</td>\n",
       "      <td>1.000000e+00</td>\n",
       "      <td>7.000000e+00</td>\n",
       "      <td>7.000000e+00</td>\n",
       "      <td>8.000000e+00</td>\n",
       "      <td>1.300000e+01</td>\n",
       "    </tr>\n",
       "    <tr>\n",
       "      <th>sqft_above</th>\n",
       "      <td>21613.0</td>\n",
       "      <td>1.788391e+03</td>\n",
       "      <td>8.280910e+02</td>\n",
       "      <td>2.900000e+02</td>\n",
       "      <td>1.190000e+03</td>\n",
       "      <td>1.560000e+03</td>\n",
       "      <td>2.210000e+03</td>\n",
       "      <td>9.410000e+03</td>\n",
       "    </tr>\n",
       "    <tr>\n",
       "      <th>sqft_basement</th>\n",
       "      <td>21613.0</td>\n",
       "      <td>2.915090e+02</td>\n",
       "      <td>4.425750e+02</td>\n",
       "      <td>0.000000e+00</td>\n",
       "      <td>0.000000e+00</td>\n",
       "      <td>0.000000e+00</td>\n",
       "      <td>5.600000e+02</td>\n",
       "      <td>4.820000e+03</td>\n",
       "    </tr>\n",
       "    <tr>\n",
       "      <th>yr_built</th>\n",
       "      <td>21613.0</td>\n",
       "      <td>1.971005e+03</td>\n",
       "      <td>2.937341e+01</td>\n",
       "      <td>1.900000e+03</td>\n",
       "      <td>1.951000e+03</td>\n",
       "      <td>1.975000e+03</td>\n",
       "      <td>1.997000e+03</td>\n",
       "      <td>2.015000e+03</td>\n",
       "    </tr>\n",
       "    <tr>\n",
       "      <th>yr_renovated</th>\n",
       "      <td>21613.0</td>\n",
       "      <td>8.440226e+01</td>\n",
       "      <td>4.016792e+02</td>\n",
       "      <td>0.000000e+00</td>\n",
       "      <td>0.000000e+00</td>\n",
       "      <td>0.000000e+00</td>\n",
       "      <td>0.000000e+00</td>\n",
       "      <td>2.015000e+03</td>\n",
       "    </tr>\n",
       "    <tr>\n",
       "      <th>zipcode</th>\n",
       "      <td>21613.0</td>\n",
       "      <td>9.807794e+04</td>\n",
       "      <td>5.350503e+01</td>\n",
       "      <td>9.800100e+04</td>\n",
       "      <td>9.803300e+04</td>\n",
       "      <td>9.806500e+04</td>\n",
       "      <td>9.811800e+04</td>\n",
       "      <td>9.819900e+04</td>\n",
       "    </tr>\n",
       "    <tr>\n",
       "      <th>lat</th>\n",
       "      <td>21613.0</td>\n",
       "      <td>4.756005e+01</td>\n",
       "      <td>1.385637e-01</td>\n",
       "      <td>4.715590e+01</td>\n",
       "      <td>4.747100e+01</td>\n",
       "      <td>4.757180e+01</td>\n",
       "      <td>4.767800e+01</td>\n",
       "      <td>4.777760e+01</td>\n",
       "    </tr>\n",
       "    <tr>\n",
       "      <th>long</th>\n",
       "      <td>21613.0</td>\n",
       "      <td>-1.222139e+02</td>\n",
       "      <td>1.408283e-01</td>\n",
       "      <td>-1.225190e+02</td>\n",
       "      <td>-1.223280e+02</td>\n",
       "      <td>-1.222300e+02</td>\n",
       "      <td>-1.221250e+02</td>\n",
       "      <td>-1.213150e+02</td>\n",
       "    </tr>\n",
       "    <tr>\n",
       "      <th>sqft_living15</th>\n",
       "      <td>21613.0</td>\n",
       "      <td>1.986552e+03</td>\n",
       "      <td>6.853913e+02</td>\n",
       "      <td>3.990000e+02</td>\n",
       "      <td>1.490000e+03</td>\n",
       "      <td>1.840000e+03</td>\n",
       "      <td>2.360000e+03</td>\n",
       "      <td>6.210000e+03</td>\n",
       "    </tr>\n",
       "    <tr>\n",
       "      <th>sqft_lot15</th>\n",
       "      <td>21613.0</td>\n",
       "      <td>1.276846e+04</td>\n",
       "      <td>2.730418e+04</td>\n",
       "      <td>6.510000e+02</td>\n",
       "      <td>5.100000e+03</td>\n",
       "      <td>7.620000e+03</td>\n",
       "      <td>1.008300e+04</td>\n",
       "      <td>8.712000e+05</td>\n",
       "    </tr>\n",
       "  </tbody>\n",
       "</table>\n",
       "</div>"
      ],
      "text/plain": [
       "                 count          mean           std           min  \\\n",
       "id             21613.0  4.580302e+09  2.876566e+09  1.000102e+06   \n",
       "price          21613.0  5.400881e+05  3.671272e+05  7.500000e+04   \n",
       "bedrooms       21613.0  3.370842e+00  9.300618e-01  0.000000e+00   \n",
       "bathrooms      21613.0  2.114757e+00  7.701632e-01  0.000000e+00   \n",
       "sqft_living    21613.0  2.079900e+03  9.184409e+02  2.900000e+02   \n",
       "sqft_lot       21613.0  1.510697e+04  4.142051e+04  5.200000e+02   \n",
       "floors         21613.0  1.494309e+00  5.399889e-01  1.000000e+00   \n",
       "waterfront     21613.0  7.541757e-03  8.651720e-02  0.000000e+00   \n",
       "view           21613.0  2.343034e-01  7.663176e-01  0.000000e+00   \n",
       "condition      21613.0  3.409430e+00  6.507430e-01  1.000000e+00   \n",
       "grade          21613.0  7.656873e+00  1.175459e+00  1.000000e+00   \n",
       "sqft_above     21613.0  1.788391e+03  8.280910e+02  2.900000e+02   \n",
       "sqft_basement  21613.0  2.915090e+02  4.425750e+02  0.000000e+00   \n",
       "yr_built       21613.0  1.971005e+03  2.937341e+01  1.900000e+03   \n",
       "yr_renovated   21613.0  8.440226e+01  4.016792e+02  0.000000e+00   \n",
       "zipcode        21613.0  9.807794e+04  5.350503e+01  9.800100e+04   \n",
       "lat            21613.0  4.756005e+01  1.385637e-01  4.715590e+01   \n",
       "long           21613.0 -1.222139e+02  1.408283e-01 -1.225190e+02   \n",
       "sqft_living15  21613.0  1.986552e+03  6.853913e+02  3.990000e+02   \n",
       "sqft_lot15     21613.0  1.276846e+04  2.730418e+04  6.510000e+02   \n",
       "\n",
       "                        25%           50%           75%           max  \n",
       "id             2.123049e+09  3.904930e+09  7.308900e+09  9.900000e+09  \n",
       "price          3.219500e+05  4.500000e+05  6.450000e+05  7.700000e+06  \n",
       "bedrooms       3.000000e+00  3.000000e+00  4.000000e+00  3.300000e+01  \n",
       "bathrooms      1.750000e+00  2.250000e+00  2.500000e+00  8.000000e+00  \n",
       "sqft_living    1.427000e+03  1.910000e+03  2.550000e+03  1.354000e+04  \n",
       "sqft_lot       5.040000e+03  7.618000e+03  1.068800e+04  1.651359e+06  \n",
       "floors         1.000000e+00  1.500000e+00  2.000000e+00  3.500000e+00  \n",
       "waterfront     0.000000e+00  0.000000e+00  0.000000e+00  1.000000e+00  \n",
       "view           0.000000e+00  0.000000e+00  0.000000e+00  4.000000e+00  \n",
       "condition      3.000000e+00  3.000000e+00  4.000000e+00  5.000000e+00  \n",
       "grade          7.000000e+00  7.000000e+00  8.000000e+00  1.300000e+01  \n",
       "sqft_above     1.190000e+03  1.560000e+03  2.210000e+03  9.410000e+03  \n",
       "sqft_basement  0.000000e+00  0.000000e+00  5.600000e+02  4.820000e+03  \n",
       "yr_built       1.951000e+03  1.975000e+03  1.997000e+03  2.015000e+03  \n",
       "yr_renovated   0.000000e+00  0.000000e+00  0.000000e+00  2.015000e+03  \n",
       "zipcode        9.803300e+04  9.806500e+04  9.811800e+04  9.819900e+04  \n",
       "lat            4.747100e+01  4.757180e+01  4.767800e+01  4.777760e+01  \n",
       "long          -1.223280e+02 -1.222300e+02 -1.221250e+02 -1.213150e+02  \n",
       "sqft_living15  1.490000e+03  1.840000e+03  2.360000e+03  6.210000e+03  \n",
       "sqft_lot15     5.100000e+03  7.620000e+03  1.008300e+04  8.712000e+05  "
      ]
     },
     "execution_count": 121,
     "metadata": {},
     "output_type": "execute_result"
    }
   ],
   "source": [
    "# Estadistica descriptiva\n",
    "df.describe().transpose()"
   ]
  },
  {
   "cell_type": "code",
   "execution_count": 122,
   "metadata": {},
   "outputs": [
    {
     "data": {
      "text/plain": [
       "(21613, 16)"
      ]
     },
     "execution_count": 122,
     "metadata": {},
     "output_type": "execute_result"
    }
   ],
   "source": [
    "# Renombrando\n",
    "df = df[['price', 'bedrooms', 'bathrooms', 'sqft_living',\n",
    "       'sqft_lot', 'floors', 'waterfront', 'view', 'condition', 'grade',\n",
    "       'sqft_above', 'sqft_basement', 'yr_built', 'yr_renovated','sqft_living15', 'sqft_lot15']]\n",
    "df.shape"
   ]
  },
  {
   "cell_type": "code",
   "execution_count": 123,
   "metadata": {
    "scrolled": true
   },
   "outputs": [
    {
     "data": {
      "image/png": "[encoded data removed]",
      "text/plain": [
       "<Figure size 1080x432 with 2 Axes>"
      ]
     },
     "metadata": {},
     "output_type": "display_data"
    }
   ],
   "source": [
    "# Revision de correlaciones y seleccion de variables\n",
    "sns.set(rc={'figure.figsize':(15,6)})\n",
    "sns.heatmap(df.corr(method='pearson'), annot = True, linewidths=.5, cmap = 'BuGn')\n",
    "\n",
    "df = df[['price', 'bedrooms', 'bathrooms', 'sqft_living',\n",
    "       'floors', 'waterfront', 'view', 'grade',\n",
    "      'sqft_above', 'sqft_basement', 'yr_renovated','sqft_living15']]"
   ]
  },
  {
   "cell_type": "markdown",
   "metadata": {},
   "source": [
    "**Divide los datos.**"
   ]
  },
  {
   "cell_type": "code",
   "execution_count": 124,
   "metadata": {},
   "outputs": [],
   "source": [
    "# Variables\n",
    "X = df.drop(labels = 'price', axis = 1)\n",
    "y = df['price']\n",
    "\n",
    "# Split\n",
    "Xtrain, Xtest, ytrain, ytest = train_test_split(X, y, test_size=0.20)"
   ]
  },
  {
   "cell_type": "markdown",
   "metadata": {},
   "source": [
    "#### Regresión Lineal.\n",
    "Realiza la regresión lineal: modelo generado (ecuación), su visualización, sus errores y r cuadrada"
   ]
  },
  {
   "cell_type": "code",
   "execution_count": null,
   "metadata": {},
   "outputs": [],
   "source": [
    "lrm = LinearRegression()\n",
    "lrm.fit(Xtrain, ytrain)\n",
    "\n",
    "yhatTr = lrm.predict(Xtrain)\n",
    "yhatTe = lrm.predict(Xtest)\n",
    "\n",
    "lrm.intercept_, lrm.coef_"
   ]
  },
  {
   "cell_type": "markdown",
   "metadata": {},
   "source": [
    "$y = -5190441 -28428  bedrooms -2.5464bathrooms + 1.3654sqft-living -6.597floors + 575231 waterfront+58084 view+ 103262grade + 43 sqft-above+ 9.2sqft-basement + 67yr-renovated + 7sqft-living15$"
   ]
  },
  {
   "cell_type": "code",
   "execution_count": 139,
   "metadata": {},
   "outputs": [
    {
     "name": "stdout",
     "output_type": "stream",
     "text": [
      "Error medio Absoluto (MAE): 153043.98\n",
      "Root Mean Squared Error: 231285.57\n",
      "r2_score 0.61\n"
     ]
    }
   ],
   "source": [
    "# Errores\n",
    "mae_lrm = mean_absolute_error(ytrain, yhatTr ).round(2)\n",
    "rmse_lrm = np.sqrt(mean_squared_error(ytrain, yhatTr )).round(2)\n",
    "r2_lrm = r2_score(ytrain, yhatTr ).round(2)\n",
    "\n",
    "print('Error medio Absoluto (MAE):',mae_lrm)\n",
    "print('Root Mean Squared Error:', rmse_lrm )\n",
    "print('r2_score',r2_lrm)"
   ]
  },
  {
   "cell_type": "code",
   "execution_count": null,
   "metadata": {},
   "outputs": [],
   "source": []
  },
  {
   "cell_type": "markdown",
   "metadata": {},
   "source": [
    "#### Regresión Múltiple Polinomial.\n",
    "Realiza la regresión polinomial completa, tu modelo generado (ecuación), sus errores y r cuadrada."
   ]
  },
  {
   "cell_type": "code",
   "execution_count": 137,
   "metadata": {},
   "outputs": [
    {
     "name": "stderr",
     "output_type": "stream",
     "text": [
      "C:\\Users\\ADMIN\\AppData\\Roaming\\Python\\Python39\\site-packages\\sklearn\\linear_model\\_coordinate_descent.py:648: ConvergenceWarning: Objective did not converge. You might want to increase the number of iterations, check the scale of the features or consider increasing regularisation. Duality gap: 3.585e+14, tolerance: 2.343e+11\n",
      "  model = cd_fast.enet_coordinate_descent(\n"
     ]
    },
    {
     "data": {
      "text/plain": [
       "(373257.1463266519,\n",
       " array([-3.33585629e+04, -1.06136265e+05, -2.50552871e+02,  9.14714409e+04,\n",
       "         4.51767605e+05, -8.79032060e+04, -7.97912420e+04,  3.77937340e+01,\n",
       "         1.95681156e+02, -5.19282441e+01,  2.30155338e+02,  9.85270513e+02,\n",
       "        -8.28513277e+03,  4.85947728e+00,  1.70276816e+04,  6.35639347e+02,\n",
       "        -2.80348729e+03,  1.70405592e+02, -3.03403308e+00, -2.26876331e+01,\n",
       "        -7.77441751e+00,  1.20150952e+01,  1.34220790e+04,  2.87599643e+01,\n",
       "        -4.79084087e+04,  6.05173681e+04,  5.68362347e+03,  1.97075315e+04,\n",
       "        -2.05080868e+01, -4.13774114e+01, -1.84283274e+00, -1.73485406e+01,\n",
       "         5.80408557e-02,  1.44713477e+01, -8.46453802e+01,  2.40087387e+01,\n",
       "         1.17784572e+01, -3.99380770e-02,  1.24084197e-02,  6.43064020e-02,\n",
       "        -1.97044512e-02,  1.14135954e+04, -1.36829229e+05,  1.93191379e+04,\n",
       "         5.71696025e+03,  9.79938745e+00,  9.33594368e+01, -2.32311926e+00,\n",
       "        -9.22052693e+01, -3.64311762e+05, -1.64352360e+03, -1.10497490e+05,\n",
       "         4.07171272e+02,  2.18708173e+02, -1.10560198e+02,  2.48731876e+02,\n",
       "         7.04455151e+03,  1.21297609e+04, -4.76588567e+01, -4.06741161e+01,\n",
       "        -1.79189433e+01,  1.54305827e+01,  6.71485334e+03,  1.56627607e+01,\n",
       "         7.20920174e+00,  1.11934388e+01, -1.78856531e+01, -5.77757907e-03,\n",
       "        -4.47052134e-02, -3.61731590e-02,  2.97917532e-03, -1.12509364e-01,\n",
       "        -3.51160044e-02,  1.29965334e-02, -5.27333053e-02,  6.04109535e-02,\n",
       "         2.75454850e-02]))"
      ]
     },
     "execution_count": 137,
     "metadata": {},
     "output_type": "execute_result"
    }
   ],
   "source": [
    "poly = PolynomialFeatures(degree = 2, include_bias=False)\n",
    "XtrainP = poly.fit_transform(Xtrain)\n",
    "# XtestP5 = poly.fit_transform(Xtest)\n",
    "# XtrainP5 = Xtrain\n",
    "# XtestP5 = Xtest\n",
    "\n",
    "lrm.fit(XtrainP, ytrain)\n",
    "\n",
    "\n",
    "yhatTr_poly = lrm.predict(XtrainP)\n",
    "\n",
    "lrm.intercept_, lrm.coef_"
   ]
  },
  {
   "cell_type": "code",
   "execution_count": 138,
   "metadata": {},
   "outputs": [
    {
     "name": "stdout",
     "output_type": "stream",
     "text": [
      "Error medio Absoluto (MAE): 138474.88\n",
      "Root Mean Squared Error: 203649.12\n",
      "r2_score 0.69\n"
     ]
    }
   ],
   "source": [
    "# Errores\n",
    "mae_lrmPoly = mean_absolute_error(ytrain, yhatTr_poly ).round(2)\n",
    "rmse_lrmPoly = np.sqrt(mean_squared_error(ytrain, yhatTr_poly )).round(2)\n",
    "r2_lrmPoly = r2_score(ytrain, yhatTr_poly ).round(2)\n",
    "\n",
    "print('Error medio Absoluto (MAE):',mae_lrmPoly)\n",
    "print('Root Mean Squared Error:', rmse_lrmPoly )\n",
    "print('r2_score',r2_lrmPoly)"
   ]
  },
  {
   "cell_type": "markdown",
   "metadata": {},
   "source": [
    "**Realiza la regresión con Ridge y Lasso. Incluye la ecuación de tu modelo, errores y r cuadrada.**"
   ]
  },
  {
   "cell_type": "code",
   "execution_count": 147,
   "metadata": {},
   "outputs": [
    {
     "data": {
      "text/plain": [
       "(-517080.54368764046,\n",
       " array([-2.86393063e+04, -2.53866613e+04,  1.36723075e+02, -6.53319860e+03,\n",
       "         5.28213766e+05,  6.03173292e+04,  1.02980048e+05,  4.39678411e+01,\n",
       "         9.27552966e+01,  6.76655424e+01,  7.08965050e+00]))"
      ]
     },
     "execution_count": 147,
     "metadata": {},
     "output_type": "execute_result"
    }
   ],
   "source": [
    "# Ridge\n",
    "ridge_lrm = Ridge(alpha=10)\n",
    "ridge_lrm.fit(Xtrain,ytrain)\n",
    "y_pred_ridgelrm = ridge_lrm.predict(Xtrain)\n",
    "\n",
    "ridge_lrm.intercept_, ridge_lrm.coef_"
   ]
  },
  {
   "cell_type": "code",
   "execution_count": 148,
   "metadata": {},
   "outputs": [
    {
     "name": "stdout",
     "output_type": "stream",
     "text": [
      "Error medio Absoluto (MAE): 153057.26\n",
      "Root Mean Squared Error: 231316.49\n",
      "r2_score 0.61\n"
     ]
    }
   ],
   "source": [
    "# Errores\n",
    "mae_lrmRidge = mean_absolute_error(ytrain, y_pred_ridgelrm  ).round(2)\n",
    "rmse_lrmRidge = np.sqrt(mean_squared_error(ytrain, y_pred_ridgelrm  )).round(2)\n",
    "r2_lrmRidge = r2_score(ytrain, y_pred_ridgelrm  ).round(2)\n",
    "\n",
    "print('Error medio Absoluto (MAE):',mae_lrmRidge)\n",
    "print('Root Mean Squared Error:', rmse_lrmRidge )\n",
    "print('r2_score',r2_lrmRidge)"
   ]
  },
  {
   "cell_type": "code",
   "execution_count": 149,
   "metadata": {},
   "outputs": [
    {
     "data": {
      "text/plain": [
       "(-518944.8021170597,\n",
       " array([-2.84258295e+04, -2.54361386e+04,  3.08268367e+02, -6.54528823e+03,\n",
       "         5.73761286e+05,  5.81393936e+04,  1.03227260e+05, -1.28082328e+02,\n",
       "        -7.88051292e+01,  6.71897804e+01,  7.32979719e+00]))"
      ]
     },
     "execution_count": 149,
     "metadata": {},
     "output_type": "execute_result"
    }
   ],
   "source": [
    "# Lasso\n",
    "lasso_lrm = Lasso(alpha=10)\n",
    "lasso_lrm.fit(Xtrain,ytrain)\n",
    "y_pred_lassorm = lasso_lrm.predict(Xtrain)\n",
    "\n",
    "lasso_lrm.intercept_, lasso_lrm.coef_"
   ]
  },
  {
   "cell_type": "code",
   "execution_count": 150,
   "metadata": {
    "scrolled": true
   },
   "outputs": [
    {
     "name": "stdout",
     "output_type": "stream",
     "text": [
      "Error medio Absoluto (MAE): 153043.7\n",
      "Root Mean Squared Error: 231285.61\n",
      "r2_score 0.61\n"
     ]
    }
   ],
   "source": [
    "# Errores\n",
    "mae_lrmLasso = mean_absolute_error(ytrain, y_pred_lassorm  ).round(2)\n",
    "rmse_lrmLasso = np.sqrt(mean_squared_error(ytrain, y_pred_lassorm  )).round(2)\n",
    "r2_lrmLasso = r2_score(ytrain, y_pred_lassorm  ).round(2)\n",
    "\n",
    "print('Error medio Absoluto (MAE):',mae_lrmLasso)\n",
    "print('Root Mean Squared Error:', rmse_lrmLasso )\n",
    "print('r2_score',r2_lrmLasso)"
   ]
  },
  {
   "cell_type": "markdown",
   "metadata": {},
   "source": [
    "**Finalmente grafica:  \n",
    "MAE (de los cuatro métodos)  \n",
    "R2 (de los cuatro métodos)**"
   ]
  },
  {
   "cell_type": "code",
   "execution_count": 152,
   "metadata": {},
   "outputs": [
    {
     "data": {
      "text/html": [
       "<div>\n",
       "<style scoped>\n",
       "    .dataframe tbody tr th:only-of-type {\n",
       "        vertical-align: middle;\n",
       "    }\n",
       "\n",
       "    .dataframe tbody tr th {\n",
       "        vertical-align: top;\n",
       "    }\n",
       "\n",
       "    .dataframe thead th {\n",
       "        text-align: right;\n",
       "    }\n",
       "</style>\n",
       "<table border=\"1\" class=\"dataframe\">\n",
       "  <thead>\n",
       "    <tr style=\"text-align: right;\">\n",
       "      <th></th>\n",
       "      <th>MODELO</th>\n",
       "      <th>MAE</th>\n",
       "      <th>R2</th>\n",
       "    </tr>\n",
       "  </thead>\n",
       "  <tbody>\n",
       "    <tr>\n",
       "      <th>0</th>\n",
       "      <td>LR</td>\n",
       "      <td>153043.98</td>\n",
       "      <td>0.61</td>\n",
       "    </tr>\n",
       "    <tr>\n",
       "      <th>1</th>\n",
       "      <td>Polinomial</td>\n",
       "      <td>138474.88</td>\n",
       "      <td>0.69</td>\n",
       "    </tr>\n",
       "    <tr>\n",
       "      <th>2</th>\n",
       "      <td>Ridge</td>\n",
       "      <td>153057.26</td>\n",
       "      <td>0.61</td>\n",
       "    </tr>\n",
       "    <tr>\n",
       "      <th>3</th>\n",
       "      <td>Lasso</td>\n",
       "      <td>153043.70</td>\n",
       "      <td>0.61</td>\n",
       "    </tr>\n",
       "  </tbody>\n",
       "</table>\n",
       "</div>"
      ],
      "text/plain": [
       "       MODELO        MAE    R2\n",
       "0          LR  153043.98  0.61\n",
       "1  Polinomial  138474.88  0.69\n",
       "2       Ridge  153057.26  0.61\n",
       "3       Lasso  153043.70  0.61"
      ]
     },
     "execution_count": 152,
     "metadata": {},
     "output_type": "execute_result"
    }
   ],
   "source": [
    "a =pd.DataFrame(\n",
    "    {'MODELO':['LR','Polinomial','Ridge','Lasso'],\n",
    "'MAE':[mae_lrm, mae_lrmPoly ,mae_lrmRidge,mae_lrmLasso],\n",
    "'R2':[r2_lrm, r2_lrmPoly ,r2_lrmRidge,r2_lrmLasso]}\n",
    ")\n",
    "a.head()"
   ]
  },
  {
   "cell_type": "code",
   "execution_count": 153,
   "metadata": {},
   "outputs": [
    {
     "data": {
      "image/png": "[encoded data removed]",
      "text/plain": [
       "<Figure size 1080x432 with 1 Axes>"
      ]
     },
     "metadata": {},
     "output_type": "display_data"
    }
   ],
   "source": [
    "sns.barplot(data=a, x=\"MODELO\", y=\"MAE\")\n",
    "plt.title('MAE por Modelo')\n",
    "plt.show()"
   ]
  },
  {
   "cell_type": "code",
   "execution_count": 154,
   "metadata": {},
   "outputs": [
    {
     "data": {
      "image/png": "[encoded data removed]",
      "text/plain": [
       "<Figure size 1080x432 with 1 Axes>"
      ]
     },
     "metadata": {},
     "output_type": "display_data"
    }
   ],
   "source": [
    "sns.barplot(data=a, x=\"MODELO\", y=\"R2\")\n",
    "plt.title('R2 por Modelo')\n",
    "plt.show()"
   ]
  },
  {
   "cell_type": "markdown",
   "metadata": {},
   "source": [
    "**Explica tus resultados, que método conviene más a la empresa, ¿por que?, ¿que porcentajes de entrenamiento y evaluación usaste?, ¿que error tienes?, ¿es bueno?, ¿cómo lo sabes?**"
   ]
  },
  {
   "cell_type": "markdown",
   "metadata": {},
   "source": [
    "Al igual que el ejercicio anterior, el mejor modelo resulta ser el polinomial debido a la distribución de los datos que no son lineales. Se ocuparon 20% de test y 80% para entrenamiento y test. Los errores son bajos y el R2 son altos por lo que el modelo polinomial es el mejor"
   ]
  },
  {
   "cell_type": "code",
   "execution_count": null,
   "metadata": {},
   "outputs": [],
   "source": []
  }
 ],
 "metadata": {
  "accelerator": "GPU",
  "colab": {
   "provenance": []
  },
  "kernelspec": {
   "display_name": "Python 3 (ipykernel)",
   "language": "python",
   "name": "python3"
  },
  "language_info": {
   "codemirror_mode": {
    "name": "ipython",
    "version": 3
   },
   "file_extension": ".py",
   "mimetype": "text/x-python",
   "name": "python",
   "nbconvert_exporter": "python",
   "pygments_lexer": "ipython3",
   "version": "3.9.7"
  }
 },
 "nbformat": 4,
 "nbformat_minor": 1
}
