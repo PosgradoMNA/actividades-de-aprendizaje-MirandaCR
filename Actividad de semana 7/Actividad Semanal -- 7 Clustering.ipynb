{
 "cells": [
  {
   "cell_type": "markdown",
   "metadata": {},
   "source": [
    "# TECNOLOGICO DE MONTEREY\n",
    "## Actividad Semanal -- 7 Cluster\n",
    "### Maria de La Paz Rico\n",
    "\n",
    "Noviembre - 2022\n",
    "\n",
    " Cristian Miranda - A01793718\n"
   ]
  },
  {
   "cell_type": "markdown",
   "metadata": {
    "id": "6mUW5QNwhz5T"
   },
   "source": [
    "Este notebook se basa en información de target\n",
    "![imagen.png](https://www.america-retail.com/static//2020/12/target01.jpg)\n",
    "\n",
    "\n",
    "Ahora imagina que somos parte del equipo de data science de la empresa Target, una de las tiendas con mayor presencia en Estados Unidos. El departamento de logistica acude a nosotros para saber donde le conviene poner sus almacenes, para que se optimice el gasto de gasolina, los tiempos de entrega de los productos y se disminuyan costos. Para ello, nos pasan los datos de latitud y longitud de cada una de las tiendas.\n",
    "\n",
    "https://www.kaggle.com/datasets/saejinmahlauheinert/target-store-locations?select=target-locations.csv\n",
    "\n",
    "Si quieres saber un poco más de graficas geográficas consulta el siguiente notebook\n",
    "https://colab.research.google.com/github/QuantEcon/quantecon-notebooks-datascience/blob/master/applications/maps.ipynb#scrollTo=uo2oPtSCeAOz"
   ]
  },
  {
   "cell_type": "code",
   "execution_count": 3,
   "metadata": {
    "colab": {
     "base_uri": "https://localhost:8080/"
    },
    "id": "YwkfEqinwESD",
    "outputId": "4f3f59bb-a439-4cc0-bf4b-e86aa3702621"
   },
   "outputs": [],
   "source": [
    "#! pip install qeds fiona geopandas xgboost gensim folium pyLDAvis descartes"
   ]
  },
  {
   "cell_type": "code",
   "execution_count": 1,
   "metadata": {
    "id": "WBpdGjbquQii"
   },
   "outputs": [],
   "source": [
    "import pandas as pd\n",
    "import numpy as np\n",
    "from tqdm import tqdm\n",
    "%matplotlib inline\n",
    "import numpy as np\n",
    "import matplotlib.pyplot as plt\n",
    "import geopandas"
   ]
  },
  {
   "cell_type": "markdown",
   "metadata": {
    "id": "KNTIoZlGvPum"
   },
   "source": [
    "Importa la base de datos"
   ]
  },
  {
   "cell_type": "code",
   "execution_count": 3,
   "metadata": {
    "id": "PAJWHRVN781V"
   },
   "outputs": [],
   "source": [
    "url=\"https://raw.githubusercontent.com/marypazrf/bdd/main/target-locations.csv\"\n",
    "df=pd.read_csv(url)"
   ]
  },
  {
   "cell_type": "markdown",
   "metadata": {
    "id": "sH4hvPAYvUGY"
   },
   "source": [
    "Exploremos los datos."
   ]
  },
  {
   "cell_type": "code",
   "execution_count": 5,
   "metadata": {
    "colab": {
     "base_uri": "https://localhost:8080/",
     "height": 206
    },
    "id": "DuzNp7KseyBg",
    "outputId": "9d08c3b6-e45a-4175-b61f-f84fbb9e3704"
   },
   "outputs": [
    {
     "data": {
      "text/html": [
       "<div>\n",
       "<style scoped>\n",
       "    .dataframe tbody tr th:only-of-type {\n",
       "        vertical-align: middle;\n",
       "    }\n",
       "\n",
       "    .dataframe tbody tr th {\n",
       "        vertical-align: top;\n",
       "    }\n",
       "\n",
       "    .dataframe thead th {\n",
       "        text-align: right;\n",
       "    }\n",
       "</style>\n",
       "<table border=\"1\" class=\"dataframe\">\n",
       "  <thead>\n",
       "    <tr style=\"text-align: right;\">\n",
       "      <th></th>\n",
       "      <th>name</th>\n",
       "      <th>latitude</th>\n",
       "      <th>longitude</th>\n",
       "      <th>address</th>\n",
       "      <th>phone</th>\n",
       "      <th>website</th>\n",
       "    </tr>\n",
       "  </thead>\n",
       "  <tbody>\n",
       "    <tr>\n",
       "      <th>0</th>\n",
       "      <td>Alabaster</td>\n",
       "      <td>33.224225</td>\n",
       "      <td>-86.804174</td>\n",
       "      <td>250 S Colonial Dr, Alabaster, AL 35007-4657</td>\n",
       "      <td>205-564-2608</td>\n",
       "      <td>https://www.target.com/sl/alabaster/2276</td>\n",
       "    </tr>\n",
       "    <tr>\n",
       "      <th>1</th>\n",
       "      <td>Bessemer</td>\n",
       "      <td>33.334550</td>\n",
       "      <td>-86.989778</td>\n",
       "      <td>4889 Promenade Pkwy, Bessemer, AL 35022-7305</td>\n",
       "      <td>205-565-3760</td>\n",
       "      <td>https://www.target.com/sl/bessemer/2375</td>\n",
       "    </tr>\n",
       "    <tr>\n",
       "      <th>2</th>\n",
       "      <td>Daphne</td>\n",
       "      <td>30.602875</td>\n",
       "      <td>-87.895932</td>\n",
       "      <td>1698 US Highway 98, Daphne, AL 36526-4252</td>\n",
       "      <td>251-621-3540</td>\n",
       "      <td>https://www.target.com/sl/daphne/1274</td>\n",
       "    </tr>\n",
       "    <tr>\n",
       "      <th>3</th>\n",
       "      <td>Decatur</td>\n",
       "      <td>34.560148</td>\n",
       "      <td>-86.971559</td>\n",
       "      <td>1235 Point Mallard Pkwy SE, Decatur, AL 35601-...</td>\n",
       "      <td>256-898-3036</td>\n",
       "      <td>https://www.target.com/sl/decatur/2084</td>\n",
       "    </tr>\n",
       "    <tr>\n",
       "      <th>4</th>\n",
       "      <td>Dothan</td>\n",
       "      <td>31.266061</td>\n",
       "      <td>-85.446422</td>\n",
       "      <td>4601 Montgomery Hwy, Dothan, AL 36303-1522</td>\n",
       "      <td>334-340-1112</td>\n",
       "      <td>https://www.target.com/sl/dothan/1468</td>\n",
       "    </tr>\n",
       "  </tbody>\n",
       "</table>\n",
       "</div>"
      ],
      "text/plain": [
       "        name   latitude  longitude  \\\n",
       "0  Alabaster  33.224225 -86.804174   \n",
       "1   Bessemer  33.334550 -86.989778   \n",
       "2     Daphne  30.602875 -87.895932   \n",
       "3    Decatur  34.560148 -86.971559   \n",
       "4     Dothan  31.266061 -85.446422   \n",
       "\n",
       "                                             address         phone  \\\n",
       "0        250 S Colonial Dr, Alabaster, AL 35007-4657  205-564-2608   \n",
       "1       4889 Promenade Pkwy, Bessemer, AL 35022-7305  205-565-3760   \n",
       "2          1698 US Highway 98, Daphne, AL 36526-4252  251-621-3540   \n",
       "3  1235 Point Mallard Pkwy SE, Decatur, AL 35601-...  256-898-3036   \n",
       "4         4601 Montgomery Hwy, Dothan, AL 36303-1522  334-340-1112   \n",
       "\n",
       "                                    website  \n",
       "0  https://www.target.com/sl/alabaster/2276  \n",
       "1   https://www.target.com/sl/bessemer/2375  \n",
       "2     https://www.target.com/sl/daphne/1274  \n",
       "3    https://www.target.com/sl/decatur/2084  \n",
       "4     https://www.target.com/sl/dothan/1468  "
      ]
     },
     "execution_count": 5,
     "metadata": {},
     "output_type": "execute_result"
    }
   ],
   "source": [
    "df.head()"
   ]
  },
  {
   "cell_type": "code",
   "execution_count": 6,
   "metadata": {
    "colab": {
     "base_uri": "https://localhost:8080/"
    },
    "id": "MxbhdLkavl7Q",
    "outputId": "a8717c27-b24d-4d71-9153-3f94ee0db339"
   },
   "outputs": [
    {
     "name": "stdout",
     "output_type": "stream",
     "text": [
      "<class 'pandas.core.frame.DataFrame'>\n",
      "RangeIndex: 1839 entries, 0 to 1838\n",
      "Data columns (total 6 columns):\n",
      " #   Column     Non-Null Count  Dtype  \n",
      "---  ------     --------------  -----  \n",
      " 0   name       1839 non-null   object \n",
      " 1   latitude   1839 non-null   float64\n",
      " 2   longitude  1839 non-null   float64\n",
      " 3   address    1839 non-null   object \n",
      " 4   phone      1839 non-null   object \n",
      " 5   website    1839 non-null   object \n",
      "dtypes: float64(2), object(4)\n",
      "memory usage: 86.3+ KB\n"
     ]
    }
   ],
   "source": [
    "df.info()"
   ]
  },
  {
   "cell_type": "markdown",
   "metadata": {
    "id": "cpfqKT4qxAZz"
   },
   "source": [
    "**Definición de Latitud y Longitud**\n",
    "\n",
    "**Latitud** Es la distancia en grados, minutos y segundos que hay con respecto al paralelo principal, que es el ecuador (0º). La latitud puede ser norte y sur.\n",
    "\n",
    "**Longitud**: Es la distancia en grados, minutos y segundos que hay con respecto al meridiano principal, que es el meridiano de Greenwich (0º).La longitud puede ser este y oeste."
   ]
  },
  {
   "cell_type": "code",
   "execution_count": 7,
   "metadata": {
    "id": "oPzX3DGju0As"
   },
   "outputs": [],
   "source": [
    "latlong=df[[\"latitude\",\"longitude\"]]"
   ]
  },
  {
   "cell_type": "markdown",
   "metadata": {
    "id": "gMk6UVE2e67y"
   },
   "source": [
    "¡Visualizemos los datos!, para empezar a notar algún patron. \n",
    "\n",
    "A simple vista pudieramos pensar que tenemos algunos datos atípicos u outliers, pero .... no es así, simplemente esta grafica no nos está dando toda la información."
   ]
  },
  {
   "cell_type": "code",
   "execution_count": 8,
   "metadata": {
    "colab": {
     "base_uri": "https://localhost:8080/",
     "height": 297
    },
    "id": "-QZRqKiDfj2J",
    "outputId": "a58414cd-78fd-4d51-d02e-0abbc46caeee"
   },
   "outputs": [
    {
     "data": {
      "text/plain": [
       "<AxesSubplot:xlabel='longitude', ylabel='latitude'>"
      ]
     },
     "execution_count": 8,
     "metadata": {},
     "output_type": "execute_result"
    },
    {
     "data": {
      "image/png": "[encoded data removed]",
      "text/plain": [
       "<Figure size 432x288 with 1 Axes>"
      ]
     },
     "metadata": {
      "needs_background": "light"
     },
     "output_type": "display_data"
    }
   ],
   "source": [
    "#extrae los datos interesantes\n",
    "latlong.plot.scatter( \"longitude\",\"latitude\")"
   ]
  },
  {
   "cell_type": "code",
   "execution_count": 9,
   "metadata": {
    "colab": {
     "base_uri": "https://localhost:8080/",
     "height": 300
    },
    "id": "O6b3QguyyjM_",
    "outputId": "3acf887d-944c-4cf0-849d-471fa614c795"
   },
   "outputs": [
    {
     "data": {
      "text/html": [
       "<div>\n",
       "<style scoped>\n",
       "    .dataframe tbody tr th:only-of-type {\n",
       "        vertical-align: middle;\n",
       "    }\n",
       "\n",
       "    .dataframe tbody tr th {\n",
       "        vertical-align: top;\n",
       "    }\n",
       "\n",
       "    .dataframe thead th {\n",
       "        text-align: right;\n",
       "    }\n",
       "</style>\n",
       "<table border=\"1\" class=\"dataframe\">\n",
       "  <thead>\n",
       "    <tr style=\"text-align: right;\">\n",
       "      <th></th>\n",
       "      <th>latitude</th>\n",
       "      <th>longitude</th>\n",
       "    </tr>\n",
       "  </thead>\n",
       "  <tbody>\n",
       "    <tr>\n",
       "      <th>count</th>\n",
       "      <td>1839.000000</td>\n",
       "      <td>1839.000000</td>\n",
       "    </tr>\n",
       "    <tr>\n",
       "      <th>mean</th>\n",
       "      <td>37.791238</td>\n",
       "      <td>-91.986881</td>\n",
       "    </tr>\n",
       "    <tr>\n",
       "      <th>std</th>\n",
       "      <td>5.272299</td>\n",
       "      <td>16.108046</td>\n",
       "    </tr>\n",
       "    <tr>\n",
       "      <th>min</th>\n",
       "      <td>19.647855</td>\n",
       "      <td>-159.376962</td>\n",
       "    </tr>\n",
       "    <tr>\n",
       "      <th>25%</th>\n",
       "      <td>33.882605</td>\n",
       "      <td>-98.268828</td>\n",
       "    </tr>\n",
       "    <tr>\n",
       "      <th>50%</th>\n",
       "      <td>38.955432</td>\n",
       "      <td>-87.746346</td>\n",
       "    </tr>\n",
       "    <tr>\n",
       "      <th>75%</th>\n",
       "      <td>41.658341</td>\n",
       "      <td>-80.084833</td>\n",
       "    </tr>\n",
       "    <tr>\n",
       "      <th>max</th>\n",
       "      <td>61.577919</td>\n",
       "      <td>-68.742331</td>\n",
       "    </tr>\n",
       "  </tbody>\n",
       "</table>\n",
       "</div>"
      ],
      "text/plain": [
       "          latitude    longitude\n",
       "count  1839.000000  1839.000000\n",
       "mean     37.791238   -91.986881\n",
       "std       5.272299    16.108046\n",
       "min      19.647855  -159.376962\n",
       "25%      33.882605   -98.268828\n",
       "50%      38.955432   -87.746346\n",
       "75%      41.658341   -80.084833\n",
       "max      61.577919   -68.742331"
      ]
     },
     "execution_count": 9,
     "metadata": {},
     "output_type": "execute_result"
    }
   ],
   "source": [
    "latlong.describe()"
   ]
  },
  {
   "cell_type": "markdown",
   "metadata": {
    "id": "hkPMyAyIDunz"
   },
   "source": [
    "Para entender un poco más, nos auxiliaremos de una librería para graficar datos geográficos. Esto nos ayudara a tener un mejor entendimiento de ellos.\n",
    "\n",
    "\n"
   ]
  },
  {
   "cell_type": "code",
   "execution_count": 11,
   "metadata": {
    "id": "_blyM4esyJTu"
   },
   "outputs": [],
   "source": [
    "import geopandas as gpd\n",
    "import matplotlib.pyplot as plt\n",
    "import pandas as pd\n",
    "\n",
    "from shapely.geometry import Point\n",
    "\n",
    "%matplotlib inline\n",
    "# activate plot theme\n",
    "import qeds\n",
    "qeds.themes.mpl_style();"
   ]
  },
  {
   "cell_type": "code",
   "execution_count": 12,
   "metadata": {
    "colab": {
     "base_uri": "https://localhost:8080/",
     "height": 206
    },
    "id": "01i0TciKfPco",
    "outputId": "3662ce4c-9349-4aba-fc07-e8d4c3eac83a"
   },
   "outputs": [
    {
     "data": {
      "text/html": [
       "<div>\n",
       "<style scoped>\n",
       "    .dataframe tbody tr th:only-of-type {\n",
       "        vertical-align: middle;\n",
       "    }\n",
       "\n",
       "    .dataframe tbody tr th {\n",
       "        vertical-align: top;\n",
       "    }\n",
       "\n",
       "    .dataframe thead th {\n",
       "        text-align: right;\n",
       "    }\n",
       "</style>\n",
       "<table border=\"1\" class=\"dataframe\">\n",
       "  <thead>\n",
       "    <tr style=\"text-align: right;\">\n",
       "      <th></th>\n",
       "      <th>name</th>\n",
       "      <th>latitude</th>\n",
       "      <th>longitude</th>\n",
       "      <th>address</th>\n",
       "      <th>phone</th>\n",
       "      <th>website</th>\n",
       "      <th>Coordinates</th>\n",
       "    </tr>\n",
       "  </thead>\n",
       "  <tbody>\n",
       "    <tr>\n",
       "      <th>0</th>\n",
       "      <td>Alabaster</td>\n",
       "      <td>33.224225</td>\n",
       "      <td>-86.804174</td>\n",
       "      <td>250 S Colonial Dr, Alabaster, AL 35007-4657</td>\n",
       "      <td>205-564-2608</td>\n",
       "      <td>https://www.target.com/sl/alabaster/2276</td>\n",
       "      <td>POINT (-86.80417369999999 33.2242254)</td>\n",
       "    </tr>\n",
       "    <tr>\n",
       "      <th>1</th>\n",
       "      <td>Bessemer</td>\n",
       "      <td>33.334550</td>\n",
       "      <td>-86.989778</td>\n",
       "      <td>4889 Promenade Pkwy, Bessemer, AL 35022-7305</td>\n",
       "      <td>205-565-3760</td>\n",
       "      <td>https://www.target.com/sl/bessemer/2375</td>\n",
       "      <td>POINT (-86.98977789999999 33.3345501)</td>\n",
       "    </tr>\n",
       "    <tr>\n",
       "      <th>2</th>\n",
       "      <td>Daphne</td>\n",
       "      <td>30.602875</td>\n",
       "      <td>-87.895932</td>\n",
       "      <td>1698 US Highway 98, Daphne, AL 36526-4252</td>\n",
       "      <td>251-621-3540</td>\n",
       "      <td>https://www.target.com/sl/daphne/1274</td>\n",
       "      <td>POINT (-87.89593169999999 30.6028747)</td>\n",
       "    </tr>\n",
       "    <tr>\n",
       "      <th>3</th>\n",
       "      <td>Decatur</td>\n",
       "      <td>34.560148</td>\n",
       "      <td>-86.971559</td>\n",
       "      <td>1235 Point Mallard Pkwy SE, Decatur, AL 35601-...</td>\n",
       "      <td>256-898-3036</td>\n",
       "      <td>https://www.target.com/sl/decatur/2084</td>\n",
       "      <td>POINT (-86.9715595 34.5601477)</td>\n",
       "    </tr>\n",
       "    <tr>\n",
       "      <th>4</th>\n",
       "      <td>Dothan</td>\n",
       "      <td>31.266061</td>\n",
       "      <td>-85.446422</td>\n",
       "      <td>4601 Montgomery Hwy, Dothan, AL 36303-1522</td>\n",
       "      <td>334-340-1112</td>\n",
       "      <td>https://www.target.com/sl/dothan/1468</td>\n",
       "      <td>POINT (-85.4464222 31.2660613)</td>\n",
       "    </tr>\n",
       "  </tbody>\n",
       "</table>\n",
       "</div>"
      ],
      "text/plain": [
       "        name   latitude  longitude  \\\n",
       "0  Alabaster  33.224225 -86.804174   \n",
       "1   Bessemer  33.334550 -86.989778   \n",
       "2     Daphne  30.602875 -87.895932   \n",
       "3    Decatur  34.560148 -86.971559   \n",
       "4     Dothan  31.266061 -85.446422   \n",
       "\n",
       "                                             address         phone  \\\n",
       "0        250 S Colonial Dr, Alabaster, AL 35007-4657  205-564-2608   \n",
       "1       4889 Promenade Pkwy, Bessemer, AL 35022-7305  205-565-3760   \n",
       "2          1698 US Highway 98, Daphne, AL 36526-4252  251-621-3540   \n",
       "3  1235 Point Mallard Pkwy SE, Decatur, AL 35601-...  256-898-3036   \n",
       "4         4601 Montgomery Hwy, Dothan, AL 36303-1522  334-340-1112   \n",
       "\n",
       "                                    website  \\\n",
       "0  https://www.target.com/sl/alabaster/2276   \n",
       "1   https://www.target.com/sl/bessemer/2375   \n",
       "2     https://www.target.com/sl/daphne/1274   \n",
       "3    https://www.target.com/sl/decatur/2084   \n",
       "4     https://www.target.com/sl/dothan/1468   \n",
       "\n",
       "                             Coordinates  \n",
       "0  POINT (-86.80417369999999 33.2242254)  \n",
       "1  POINT (-86.98977789999999 33.3345501)  \n",
       "2  POINT (-87.89593169999999 30.6028747)  \n",
       "3         POINT (-86.9715595 34.5601477)  \n",
       "4         POINT (-85.4464222 31.2660613)  "
      ]
     },
     "execution_count": 12,
     "metadata": {},
     "output_type": "execute_result"
    }
   ],
   "source": [
    "df[\"Coordinates\"] = list(zip(df.longitude, df.latitude))\n",
    "df[\"Coordinates\"] = df[\"Coordinates\"].apply(Point)\n",
    "df.head()"
   ]
  },
  {
   "cell_type": "code",
   "execution_count": 13,
   "metadata": {
    "colab": {
     "base_uri": "https://localhost:8080/",
     "height": 206
    },
    "id": "SBTBrsvlfIU_",
    "outputId": "f25de2e3-840d-4945-a174-eea2fa7f441d"
   },
   "outputs": [
    {
     "data": {
      "text/html": [
       "<div>\n",
       "<style scoped>\n",
       "    .dataframe tbody tr th:only-of-type {\n",
       "        vertical-align: middle;\n",
       "    }\n",
       "\n",
       "    .dataframe tbody tr th {\n",
       "        vertical-align: top;\n",
       "    }\n",
       "\n",
       "    .dataframe thead th {\n",
       "        text-align: right;\n",
       "    }\n",
       "</style>\n",
       "<table border=\"1\" class=\"dataframe\">\n",
       "  <thead>\n",
       "    <tr style=\"text-align: right;\">\n",
       "      <th></th>\n",
       "      <th>name</th>\n",
       "      <th>latitude</th>\n",
       "      <th>longitude</th>\n",
       "      <th>address</th>\n",
       "      <th>phone</th>\n",
       "      <th>website</th>\n",
       "      <th>Coordinates</th>\n",
       "    </tr>\n",
       "  </thead>\n",
       "  <tbody>\n",
       "    <tr>\n",
       "      <th>0</th>\n",
       "      <td>Alabaster</td>\n",
       "      <td>33.224225</td>\n",
       "      <td>-86.804174</td>\n",
       "      <td>250 S Colonial Dr, Alabaster, AL 35007-4657</td>\n",
       "      <td>205-564-2608</td>\n",
       "      <td>https://www.target.com/sl/alabaster/2276</td>\n",
       "      <td>POINT (-86.80417 33.22423)</td>\n",
       "    </tr>\n",
       "    <tr>\n",
       "      <th>1</th>\n",
       "      <td>Bessemer</td>\n",
       "      <td>33.334550</td>\n",
       "      <td>-86.989778</td>\n",
       "      <td>4889 Promenade Pkwy, Bessemer, AL 35022-7305</td>\n",
       "      <td>205-565-3760</td>\n",
       "      <td>https://www.target.com/sl/bessemer/2375</td>\n",
       "      <td>POINT (-86.98978 33.33455)</td>\n",
       "    </tr>\n",
       "    <tr>\n",
       "      <th>2</th>\n",
       "      <td>Daphne</td>\n",
       "      <td>30.602875</td>\n",
       "      <td>-87.895932</td>\n",
       "      <td>1698 US Highway 98, Daphne, AL 36526-4252</td>\n",
       "      <td>251-621-3540</td>\n",
       "      <td>https://www.target.com/sl/daphne/1274</td>\n",
       "      <td>POINT (-87.89593 30.60287)</td>\n",
       "    </tr>\n",
       "    <tr>\n",
       "      <th>3</th>\n",
       "      <td>Decatur</td>\n",
       "      <td>34.560148</td>\n",
       "      <td>-86.971559</td>\n",
       "      <td>1235 Point Mallard Pkwy SE, Decatur, AL 35601-...</td>\n",
       "      <td>256-898-3036</td>\n",
       "      <td>https://www.target.com/sl/decatur/2084</td>\n",
       "      <td>POINT (-86.97156 34.56015)</td>\n",
       "    </tr>\n",
       "    <tr>\n",
       "      <th>4</th>\n",
       "      <td>Dothan</td>\n",
       "      <td>31.266061</td>\n",
       "      <td>-85.446422</td>\n",
       "      <td>4601 Montgomery Hwy, Dothan, AL 36303-1522</td>\n",
       "      <td>334-340-1112</td>\n",
       "      <td>https://www.target.com/sl/dothan/1468</td>\n",
       "      <td>POINT (-85.44642 31.26606)</td>\n",
       "    </tr>\n",
       "  </tbody>\n",
       "</table>\n",
       "</div>"
      ],
      "text/plain": [
       "        name   latitude  longitude  \\\n",
       "0  Alabaster  33.224225 -86.804174   \n",
       "1   Bessemer  33.334550 -86.989778   \n",
       "2     Daphne  30.602875 -87.895932   \n",
       "3    Decatur  34.560148 -86.971559   \n",
       "4     Dothan  31.266061 -85.446422   \n",
       "\n",
       "                                             address         phone  \\\n",
       "0        250 S Colonial Dr, Alabaster, AL 35007-4657  205-564-2608   \n",
       "1       4889 Promenade Pkwy, Bessemer, AL 35022-7305  205-565-3760   \n",
       "2          1698 US Highway 98, Daphne, AL 36526-4252  251-621-3540   \n",
       "3  1235 Point Mallard Pkwy SE, Decatur, AL 35601-...  256-898-3036   \n",
       "4         4601 Montgomery Hwy, Dothan, AL 36303-1522  334-340-1112   \n",
       "\n",
       "                                    website                 Coordinates  \n",
       "0  https://www.target.com/sl/alabaster/2276  POINT (-86.80417 33.22423)  \n",
       "1   https://www.target.com/sl/bessemer/2375  POINT (-86.98978 33.33455)  \n",
       "2     https://www.target.com/sl/daphne/1274  POINT (-87.89593 30.60287)  \n",
       "3    https://www.target.com/sl/decatur/2084  POINT (-86.97156 34.56015)  \n",
       "4     https://www.target.com/sl/dothan/1468  POINT (-85.44642 31.26606)  "
      ]
     },
     "execution_count": 13,
     "metadata": {},
     "output_type": "execute_result"
    }
   ],
   "source": [
    "gdf = gpd.GeoDataFrame(df, geometry=\"Coordinates\")\n",
    "gdf.head()"
   ]
  },
  {
   "cell_type": "code",
   "execution_count": 14,
   "metadata": {
    "colab": {
     "base_uri": "https://localhost:8080/",
     "height": 237
    },
    "id": "wB6Jkrvbfef1",
    "outputId": "1ea8bb73-a723-4998-98a6-e0ee92deaa31"
   },
   "outputs": [
    {
     "data": {
      "text/html": [
       "<div>\n",
       "<style scoped>\n",
       "    .dataframe tbody tr th:only-of-type {\n",
       "        vertical-align: middle;\n",
       "    }\n",
       "\n",
       "    .dataframe tbody tr th {\n",
       "        vertical-align: top;\n",
       "    }\n",
       "\n",
       "    .dataframe thead th {\n",
       "        text-align: right;\n",
       "    }\n",
       "</style>\n",
       "<table border=\"1\" class=\"dataframe\">\n",
       "  <thead>\n",
       "    <tr style=\"text-align: right;\">\n",
       "      <th></th>\n",
       "      <th>pop_est</th>\n",
       "      <th>continent</th>\n",
       "      <th>name</th>\n",
       "      <th>gdp_md_est</th>\n",
       "      <th>geometry</th>\n",
       "    </tr>\n",
       "    <tr>\n",
       "      <th>iso_a3</th>\n",
       "      <th></th>\n",
       "      <th></th>\n",
       "      <th></th>\n",
       "      <th></th>\n",
       "      <th></th>\n",
       "    </tr>\n",
       "  </thead>\n",
       "  <tbody>\n",
       "    <tr>\n",
       "      <th>FJI</th>\n",
       "      <td>889953.0</td>\n",
       "      <td>Oceania</td>\n",
       "      <td>Fiji</td>\n",
       "      <td>5496</td>\n",
       "      <td>MULTIPOLYGON (((180.00000 -16.06713, 180.00000...</td>\n",
       "    </tr>\n",
       "    <tr>\n",
       "      <th>TZA</th>\n",
       "      <td>58005463.0</td>\n",
       "      <td>Africa</td>\n",
       "      <td>Tanzania</td>\n",
       "      <td>63177</td>\n",
       "      <td>POLYGON ((33.90371 -0.95000, 34.07262 -1.05982...</td>\n",
       "    </tr>\n",
       "    <tr>\n",
       "      <th>ESH</th>\n",
       "      <td>603253.0</td>\n",
       "      <td>Africa</td>\n",
       "      <td>W. Sahara</td>\n",
       "      <td>907</td>\n",
       "      <td>POLYGON ((-8.66559 27.65643, -8.66512 27.58948...</td>\n",
       "    </tr>\n",
       "    <tr>\n",
       "      <th>CAN</th>\n",
       "      <td>37589262.0</td>\n",
       "      <td>North America</td>\n",
       "      <td>Canada</td>\n",
       "      <td>1736425</td>\n",
       "      <td>MULTIPOLYGON (((-122.84000 49.00000, -122.9742...</td>\n",
       "    </tr>\n",
       "    <tr>\n",
       "      <th>USA</th>\n",
       "      <td>328239523.0</td>\n",
       "      <td>North America</td>\n",
       "      <td>United States of America</td>\n",
       "      <td>21433226</td>\n",
       "      <td>MULTIPOLYGON (((-122.84000 49.00000, -120.0000...</td>\n",
       "    </tr>\n",
       "  </tbody>\n",
       "</table>\n",
       "</div>"
      ],
      "text/plain": [
       "            pop_est      continent                      name  gdp_md_est  \\\n",
       "iso_a3                                                                     \n",
       "FJI        889953.0        Oceania                      Fiji        5496   \n",
       "TZA      58005463.0         Africa                  Tanzania       63177   \n",
       "ESH        603253.0         Africa                 W. Sahara         907   \n",
       "CAN      37589262.0  North America                    Canada     1736425   \n",
       "USA     328239523.0  North America  United States of America    21433226   \n",
       "\n",
       "                                                 geometry  \n",
       "iso_a3                                                     \n",
       "FJI     MULTIPOLYGON (((180.00000 -16.06713, 180.00000...  \n",
       "TZA     POLYGON ((33.90371 -0.95000, 34.07262 -1.05982...  \n",
       "ESH     POLYGON ((-8.66559 27.65643, -8.66512 27.58948...  \n",
       "CAN     MULTIPOLYGON (((-122.84000 49.00000, -122.9742...  \n",
       "USA     MULTIPOLYGON (((-122.84000 49.00000, -120.0000...  "
      ]
     },
     "execution_count": 14,
     "metadata": {},
     "output_type": "execute_result"
    }
   ],
   "source": [
    "#mapa\n",
    "\n",
    "world = gpd.read_file(gpd.datasets.get_path(\"naturalearth_lowres\"))\n",
    "world = world.set_index(\"iso_a3\")\n",
    "\n",
    "world.head()"
   ]
  },
  {
   "cell_type": "code",
   "execution_count": 15,
   "metadata": {
    "colab": {
     "base_uri": "https://localhost:8080/"
    },
    "id": "0qkBCMSUflw_",
    "outputId": "dd9c73f1-8324-403d-9586-844ffb584bd6"
   },
   "outputs": [
    {
     "data": {
      "text/plain": [
       "array(['Fiji', 'Tanzania', 'W. Sahara', 'Canada',\n",
       "       'United States of America', 'Kazakhstan', 'Uzbekistan',\n",
       "       'Papua New Guinea', 'Indonesia', 'Argentina', 'Chile',\n",
       "       'Dem. Rep. Congo', 'Somalia', 'Kenya', 'Sudan', 'Chad', 'Haiti',\n",
       "       'Dominican Rep.', 'Russia', 'Bahamas', 'Falkland Is.', 'Norway',\n",
       "       'Greenland', 'Fr. S. Antarctic Lands', 'Timor-Leste',\n",
       "       'South Africa', 'Lesotho', 'Mexico', 'Uruguay', 'Brazil',\n",
       "       'Bolivia', 'Peru', 'Colombia', 'Panama', 'Costa Rica', 'Nicaragua',\n",
       "       'Honduras', 'El Salvador', 'Guatemala', 'Belize', 'Venezuela',\n",
       "       'Guyana', 'Suriname', 'France', 'Ecuador', 'Puerto Rico',\n",
       "       'Jamaica', 'Cuba', 'Zimbabwe', 'Botswana', 'Namibia', 'Senegal',\n",
       "       'Mali', 'Mauritania', 'Benin', 'Niger', 'Nigeria', 'Cameroon',\n",
       "       'Togo', 'Ghana', \"Côte d'Ivoire\", 'Guinea', 'Guinea-Bissau',\n",
       "       'Liberia', 'Sierra Leone', 'Burkina Faso', 'Central African Rep.',\n",
       "       'Congo', 'Gabon', 'Eq. Guinea', 'Zambia', 'Malawi', 'Mozambique',\n",
       "       'eSwatini', 'Angola', 'Burundi', 'Israel', 'Lebanon', 'Madagascar',\n",
       "       'Palestine', 'Gambia', 'Tunisia', 'Algeria', 'Jordan',\n",
       "       'United Arab Emirates', 'Qatar', 'Kuwait', 'Iraq', 'Oman',\n",
       "       'Vanuatu', 'Cambodia', 'Thailand', 'Laos', 'Myanmar', 'Vietnam',\n",
       "       'North Korea', 'South Korea', 'Mongolia', 'India', 'Bangladesh',\n",
       "       'Bhutan', 'Nepal', 'Pakistan', 'Afghanistan', 'Tajikistan',\n",
       "       'Kyrgyzstan', 'Turkmenistan', 'Iran', 'Syria', 'Armenia', 'Sweden',\n",
       "       'Belarus', 'Ukraine', 'Poland', 'Austria', 'Hungary', 'Moldova',\n",
       "       'Romania', 'Lithuania', 'Latvia', 'Estonia', 'Germany', 'Bulgaria',\n",
       "       'Greece', 'Turkey', 'Albania', 'Croatia', 'Switzerland',\n",
       "       'Luxembourg', 'Belgium', 'Netherlands', 'Portugal', 'Spain',\n",
       "       'Ireland', 'New Caledonia', 'Solomon Is.', 'New Zealand',\n",
       "       'Australia', 'Sri Lanka', 'China', 'Taiwan', 'Italy', 'Denmark',\n",
       "       'United Kingdom', 'Iceland', 'Azerbaijan', 'Georgia',\n",
       "       'Philippines', 'Malaysia', 'Brunei', 'Slovenia', 'Finland',\n",
       "       'Slovakia', 'Czechia', 'Eritrea', 'Japan', 'Paraguay', 'Yemen',\n",
       "       'Saudi Arabia', 'Antarctica', 'N. Cyprus', 'Cyprus', 'Morocco',\n",
       "       'Egypt', 'Libya', 'Ethiopia', 'Djibouti', 'Somaliland', 'Uganda',\n",
       "       'Rwanda', 'Bosnia and Herz.', 'North Macedonia', 'Serbia',\n",
       "       'Montenegro', 'Kosovo', 'Trinidad and Tobago', 'S. Sudan'],\n",
       "      dtype=object)"
      ]
     },
     "execution_count": 15,
     "metadata": {},
     "output_type": "execute_result"
    }
   ],
   "source": [
    "#graficar el mapa\n",
    "world.name.unique()"
   ]
  },
  {
   "cell_type": "code",
   "execution_count": 16,
   "metadata": {
    "colab": {
     "base_uri": "https://localhost:8080/",
     "height": 476
    },
    "id": "swDogh7dfusl",
    "outputId": "666073c5-77ef-4a17-d146-5d7be00e6f1d"
   },
   "outputs": [
    {
     "data": {
      "image/png": "[encoded data removed]",
      "text/plain": [
       "<Figure size 720x720 with 1 Axes>"
      ]
     },
     "metadata": {},
     "output_type": "display_data"
    }
   ],
   "source": [
    "fig, gax = plt.subplots(figsize=(10,10))\n",
    "\n",
    "# By only plotting rows in which the continent is 'South America' we only plot SA.\n",
    "world.query(\"name == 'United States of America'\").plot(ax=gax, edgecolor='black',color='white')\n",
    "\n",
    "# By the way, if you haven't read the book 'longitude' by Dava Sobel, you should...\n",
    "gax.set_xlabel('longitude')\n",
    "gax.set_ylabel('latitude')\n",
    "\n",
    "gax.spines['top'].set_visible(False)\n",
    "gax.spines['right'].set_visible(False)"
   ]
  },
  {
   "cell_type": "code",
   "execution_count": 17,
   "metadata": {
    "colab": {
     "base_uri": "https://localhost:8080/",
     "height": 381
    },
    "id": "OR0ydTOvf_Xp",
    "outputId": "9138b4b8-6c2f-4887-bb39-b34e92c6aac4"
   },
   "outputs": [
    {
     "data": {
      "image/png": "[encoded data removed]",
      "text/plain": [
       "<Figure size 720x720 with 1 Axes>"
      ]
     },
     "metadata": {},
     "output_type": "display_data"
    }
   ],
   "source": [
    "# Step 3: Plot the cities onto the map\n",
    "# We mostly use the code from before --- we still want the country borders plotted --- and we\n",
    "# add a command to plot the cities\n",
    "fig, gax = plt.subplots(figsize=(10,10))\n",
    "\n",
    "# By only plotting rows in which the continent is 'South America' we only plot, well,\n",
    "# South America.\n",
    "world.query(\"name == 'United States of America'\").plot(ax = gax, edgecolor='black', color='white')\n",
    "\n",
    "# This plot the cities. It's the same syntax, but we are plotting from a different GeoDataFrame.\n",
    "# I want the cities as pale red dots.\n",
    "gdf.plot(ax=gax, color='red', alpha = 0.5)\n",
    "\n",
    "gax.set_xlabel('longitude')\n",
    "gax.set_ylabel('latitude')\n",
    "gax.set_title('Target en Estados Unidos')\n",
    "\n",
    "gax.spines['top'].set_visible(False)\n",
    "gax.spines['right'].set_visible(False)\n",
    "\n",
    "plt.show()"
   ]
  },
  {
   "cell_type": "markdown",
   "metadata": {
    "id": "SMkonhsqfgSf"
   },
   "source": [
    "¿qué tal ahora?, tiene mayor sentido verdad, entonces los datos lejanos no eran atípicos, de aquí la importancia de ver los datos con el tipo de gráfica correcta.\n",
    "\n",
    "Ahora sí, implementa K means a los datos de latitud y longitud :) y encuentra donde colocar los almacenes. \n",
    "\n",
    "Nota: si te llama la atención implementar alguna otra visualización con otra librería, lo puedes hacer, no hay restricciones."
   ]
  },
  {
   "cell_type": "markdown",
   "metadata": {},
   "source": [
    "**Encuentra las latitudes y longitudes de los almacenes, ¿qué ciudad es?, ¿a cuantas tiendas va surtir?, ¿sabes a que distancia estará?**"
   ]
  },
  {
   "cell_type": "code",
   "execution_count": null,
   "metadata": {
    "id": "IfXq2ieSgD2e"
   },
   "outputs": [],
   "source": []
  },
  {
   "cell_type": "code",
   "execution_count": 125,
   "metadata": {},
   "outputs": [],
   "source": [
    "# Importando modulos\n",
    "from sklearn.cluster import KMeans\n",
    "import seaborn as sns\n",
    "\n",
    "# !pip install yellowbrick --user\n",
    "from yellowbrick.cluster import KElbowVisualizer, SilhouetteVisualizer\n",
    "\n",
    "\n",
    "import warnings\n",
    "warnings.filterwarnings('ignore')"
   ]
  },
  {
   "cell_type": "code",
   "execution_count": 20,
   "metadata": {},
   "outputs": [
    {
     "data": {
      "image/png": "[encoded data removed]",
      "text/plain": [
       "<Figure size 576x396 with 2 Axes>"
      ]
     },
     "metadata": {},
     "output_type": "display_data"
    },
    {
     "data": {
      "text/plain": [
       "<AxesSubplot:title={'center':'Distortion Score Elbow for KMeans Clustering'}, xlabel='k', ylabel='distortion score'>"
      ]
     },
     "execution_count": 20,
     "metadata": {},
     "output_type": "execute_result"
    }
   ],
   "source": [
    "# Seleccion de clusters\n",
    "# Elbow Method for K means\n",
    "kmeans = KMeans()\n",
    "# k is range of number of clusters.\n",
    "visualizer = KElbowVisualizer(kmeans, k=(2,30), timings= True)\n",
    "visualizer.fit(latlong)        # Fit data to visualizer\n",
    "visualizer.show()        # Finalize and render figure"
   ]
  },
  {
   "cell_type": "code",
   "execution_count": 21,
   "metadata": {},
   "outputs": [],
   "source": [
    "# Entrenamiento del modelo\n",
    "kmeans = KMeans(n_clusters=visualizer.elbow_value_, random_state=0).fit(latlong)"
   ]
  },
  {
   "cell_type": "code",
   "execution_count": 83,
   "metadata": {},
   "outputs": [
    {
     "data": {
      "image/png": "[encoded data removed]",
      "text/plain": [
       "<Figure size 576x396 with 2 Axes>"
      ]
     },
     "metadata": {},
     "output_type": "display_data"
    }
   ],
   "source": [
    "# Grafica de clusters\n",
    "#sns.scatterplot(x = latlong.iloc[:,0], y = latlong.iloc[:,1], hue=kmeans.labels_)\n",
    "latlong.plot.scatter( \"longitude\",\"latitude\",c=kmeans.labels_,cmap='Set1')\n",
    "plt.show()"
   ]
  },
  {
   "cell_type": "code",
   "execution_count": 143,
   "metadata": {},
   "outputs": [
    {
     "data": {
      "text/plain": [
       "array([[  35.43471729, -118.94132621],\n",
       "       [  31.12636901,  -82.56606241],\n",
       "       [  40.35125436,  -75.64454757],\n",
       "       [  41.6269679 ,  -88.92791184],\n",
       "       [  32.00463944,  -96.16688401],\n",
       "       [  46.97944073, -122.66305544],\n",
       "       [  20.94542771, -157.31225085],\n",
       "       [  37.56677907, -108.56162352]])"
      ]
     },
     "execution_count": 143,
     "metadata": {},
     "output_type": "execute_result"
    }
   ],
   "source": [
    "kmeans.labels_\n",
    "\n",
    "kmeans.cluster_centers_"
   ]
  },
  {
   "cell_type": "code",
   "execution_count": 150,
   "metadata": {},
   "outputs": [
    {
     "data": {
      "text/plain": [
       "{1: array([  37.56677907, -108.56162352])}"
      ]
     },
     "execution_count": 150,
     "metadata": {},
     "output_type": "execute_result"
    }
   ],
   "source": [
    "label_center_dict = {k:v for k, v in zip(kmeans.labels_, kmeans.cluster_centers_)}\n",
    "label_center_dict \n",
    "#numbers['new_col'] = kmean_model.labels_\n",
    "#numbers['new_col'].replace(label_center_dict, inplace = True)"
   ]
  },
  {
   "cell_type": "code",
   "execution_count": 118,
   "metadata": {},
   "outputs": [
    {
     "data": {
      "text/html": [
       "<div>\n",
       "<style scoped>\n",
       "    .dataframe tbody tr th:only-of-type {\n",
       "        vertical-align: middle;\n",
       "    }\n",
       "\n",
       "    .dataframe tbody tr th {\n",
       "        vertical-align: top;\n",
       "    }\n",
       "\n",
       "    .dataframe thead th {\n",
       "        text-align: right;\n",
       "    }\n",
       "</style>\n",
       "<table border=\"1\" class=\"dataframe\">\n",
       "  <thead>\n",
       "    <tr style=\"text-align: right;\">\n",
       "      <th></th>\n",
       "      <th>latitude</th>\n",
       "      <th>longitude</th>\n",
       "      <th>Cluster</th>\n",
       "    </tr>\n",
       "  </thead>\n",
       "  <tbody>\n",
       "    <tr>\n",
       "      <th>0</th>\n",
       "      <td>33.224225</td>\n",
       "      <td>-86.804174</td>\n",
       "      <td>1</td>\n",
       "    </tr>\n",
       "    <tr>\n",
       "      <th>1</th>\n",
       "      <td>33.334550</td>\n",
       "      <td>-86.989778</td>\n",
       "      <td>1</td>\n",
       "    </tr>\n",
       "    <tr>\n",
       "      <th>2</th>\n",
       "      <td>30.602875</td>\n",
       "      <td>-87.895932</td>\n",
       "      <td>1</td>\n",
       "    </tr>\n",
       "    <tr>\n",
       "      <th>3</th>\n",
       "      <td>34.560148</td>\n",
       "      <td>-86.971559</td>\n",
       "      <td>1</td>\n",
       "    </tr>\n",
       "    <tr>\n",
       "      <th>4</th>\n",
       "      <td>31.266061</td>\n",
       "      <td>-85.446422</td>\n",
       "      <td>1</td>\n",
       "    </tr>\n",
       "    <tr>\n",
       "      <th>...</th>\n",
       "      <td>...</td>\n",
       "      <td>...</td>\n",
       "      <td>...</td>\n",
       "    </tr>\n",
       "    <tr>\n",
       "      <th>1834</th>\n",
       "      <td>43.034293</td>\n",
       "      <td>-88.176840</td>\n",
       "      <td>3</td>\n",
       "    </tr>\n",
       "    <tr>\n",
       "      <th>1835</th>\n",
       "      <td>42.989604</td>\n",
       "      <td>-88.259806</td>\n",
       "      <td>3</td>\n",
       "    </tr>\n",
       "    <tr>\n",
       "      <th>1836</th>\n",
       "      <td>42.846799</td>\n",
       "      <td>-106.264166</td>\n",
       "      <td>7</td>\n",
       "    </tr>\n",
       "    <tr>\n",
       "      <th>1837</th>\n",
       "      <td>41.162019</td>\n",
       "      <td>-104.800048</td>\n",
       "      <td>7</td>\n",
       "    </tr>\n",
       "    <tr>\n",
       "      <th>1838</th>\n",
       "      <td>43.469617</td>\n",
       "      <td>-110.789456</td>\n",
       "      <td>7</td>\n",
       "    </tr>\n",
       "  </tbody>\n",
       "</table>\n",
       "<p>1839 rows × 3 columns</p>\n",
       "</div>"
      ],
      "text/plain": [
       "       latitude   longitude  Cluster\n",
       "0     33.224225  -86.804174        1\n",
       "1     33.334550  -86.989778        1\n",
       "2     30.602875  -87.895932        1\n",
       "3     34.560148  -86.971559        1\n",
       "4     31.266061  -85.446422        1\n",
       "...         ...         ...      ...\n",
       "1834  43.034293  -88.176840        3\n",
       "1835  42.989604  -88.259806        3\n",
       "1836  42.846799 -106.264166        7\n",
       "1837  41.162019 -104.800048        7\n",
       "1838  43.469617 -110.789456        7\n",
       "\n",
       "[1839 rows x 3 columns]"
      ]
     },
     "execution_count": 118,
     "metadata": {},
     "output_type": "execute_result"
    }
   ],
   "source": [
    "# Anexo de clusters por coordenads\n",
    "latlong['Cluster'] = kmeans.labels_\n",
    "latlong"
   ]
  },
  {
   "cell_type": "code",
   "execution_count": null,
   "metadata": {},
   "outputs": [],
   "source": []
  },
  {
   "cell_type": "code",
   "execution_count": 103,
   "metadata": {},
   "outputs": [],
   "source": [
    "from geopy.geocoders import Nominatim\n",
    "import geopy.distance\n",
    "\n",
    "import collections\n",
    "geolocator = Nominatim(user_agent=\"google\")"
   ]
  },
  {
   "cell_type": "markdown",
   "metadata": {},
   "source": [
    "**Latitudes y longitudes de los almacenes:**"
   ]
  },
  {
   "cell_type": "code",
   "execution_count": 61,
   "metadata": {},
   "outputs": [
    {
     "data": {
      "text/plain": [
       "array([[  35.43471729, -118.94132621],\n",
       "       [  31.12636901,  -82.56606241],\n",
       "       [  40.35125436,  -75.64454757],\n",
       "       [  41.6269679 ,  -88.92791184],\n",
       "       [  32.00463944,  -96.16688401],\n",
       "       [  46.97944073, -122.66305544],\n",
       "       [  20.94542771, -157.31225085],\n",
       "       [  37.56677907, -108.56162352]])"
      ]
     },
     "execution_count": 61,
     "metadata": {},
     "output_type": "execute_result"
    }
   ],
   "source": [
    "kmeans.cluster_centers_"
   ]
  },
  {
   "cell_type": "markdown",
   "metadata": {},
   "source": [
    "**Ciudades de los almacenes:**"
   ]
  },
  {
   "cell_type": "code",
   "execution_count": 126,
   "metadata": {},
   "outputs": [
    {
     "name": "stdout",
     "output_type": "stream",
     "text": [
      "0 ) 5666, Adolphus Avenue, Kern River Oil Field, Kern County, California, 93308, United States\n",
      "1 ) Ware County, Georgia, 31550, United States\n",
      "2 ) North Funk Road, Gabelsville, Colebrookdale Township, Berks County, Pennsylvania, 19512, United States\n",
      "3 ) Baptist Church, East 1250th Road, Paw Paw Township, LaSalle County, Illinois, 60518, United States\n",
      "4 ) County Road 3300, Navarro County, Texas, United States\n",
      "5 ) Thurston County, Washington, United States\n",
      "6 ) United States\n",
      "7 ) Montezuma County, Colorado, United States\n"
     ]
    }
   ],
   "source": [
    "for i in range(kmeans.cluster_centers_.shape[0]):\n",
    "    coor = str(kmeans.cluster_centers_[i][0]) + ',' + str(kmeans.cluster_centers_[i][1])\n",
    "    location = geolocator.reverse(coor)\n",
    "    print(i ,')', location)"
   ]
  },
  {
   "cell_type": "markdown",
   "metadata": {},
   "source": [
    "**Tiendas que se surten por Cluster:**"
   ]
  },
  {
   "cell_type": "code",
   "execution_count": 127,
   "metadata": {},
   "outputs": [
    {
     "data": {
      "text/html": [
       "<div>\n",
       "<style scoped>\n",
       "    .dataframe tbody tr th:only-of-type {\n",
       "        vertical-align: middle;\n",
       "    }\n",
       "\n",
       "    .dataframe tbody tr th {\n",
       "        vertical-align: top;\n",
       "    }\n",
       "\n",
       "    .dataframe thead th {\n",
       "        text-align: right;\n",
       "    }\n",
       "</style>\n",
       "<table border=\"1\" class=\"dataframe\">\n",
       "  <thead>\n",
       "    <tr style=\"text-align: right;\">\n",
       "      <th></th>\n",
       "      <th>index</th>\n",
       "      <th>0</th>\n",
       "    </tr>\n",
       "  </thead>\n",
       "  <tbody>\n",
       "    <tr>\n",
       "      <th>2</th>\n",
       "      <td>0</td>\n",
       "      <td>219</td>\n",
       "    </tr>\n",
       "    <tr>\n",
       "      <th>0</th>\n",
       "      <td>1</td>\n",
       "      <td>260</td>\n",
       "    </tr>\n",
       "    <tr>\n",
       "      <th>6</th>\n",
       "      <td>2</td>\n",
       "      <td>485</td>\n",
       "    </tr>\n",
       "    <tr>\n",
       "      <th>5</th>\n",
       "      <td>3</td>\n",
       "      <td>451</td>\n",
       "    </tr>\n",
       "    <tr>\n",
       "      <th>4</th>\n",
       "      <td>4</td>\n",
       "      <td>211</td>\n",
       "    </tr>\n",
       "    <tr>\n",
       "      <th>1</th>\n",
       "      <td>5</td>\n",
       "      <td>73</td>\n",
       "    </tr>\n",
       "    <tr>\n",
       "      <th>7</th>\n",
       "      <td>6</td>\n",
       "      <td>8</td>\n",
       "    </tr>\n",
       "    <tr>\n",
       "      <th>3</th>\n",
       "      <td>7</td>\n",
       "      <td>132</td>\n",
       "    </tr>\n",
       "  </tbody>\n",
       "</table>\n",
       "</div>"
      ],
      "text/plain": [
       "   index    0\n",
       "2      0  219\n",
       "0      1  260\n",
       "6      2  485\n",
       "5      3  451\n",
       "4      4  211\n",
       "1      5   73\n",
       "7      6    8\n",
       "3      7  132"
      ]
     },
     "execution_count": 127,
     "metadata": {},
     "output_type": "execute_result"
    }
   ],
   "source": [
    "counter = collections.Counter(kmeans.labels_)\n",
    "pd.DataFrame.from_dict(counter, orient='index').reset_index().sort_values(by='index')"
   ]
  },
  {
   "cell_type": "markdown",
   "metadata": {},
   "source": [
    "**Distancias a los almacenes:**"
   ]
  },
  {
   "cell_type": "code",
   "execution_count": 133,
   "metadata": {},
   "outputs": [
    {
     "data": {
      "text/plain": [
       "array([[32.21308501,  4.72890989, 13.24129137, ..., 38.40657949,\n",
       "        71.56925189, 22.18658141],\n",
       "       [32.02049565,  4.94422112, 13.33972975, ..., 38.19379231,\n",
       "        71.40546586, 21.9830909 ],\n",
       "       [31.41915376,  5.35551612, 15.65654237, ..., 38.43103964,\n",
       "        70.08488886, 21.80749372],\n",
       "       ...,\n",
       "       [14.68500393, 26.43801465, 30.72114584, ..., 16.91160214,\n",
       "        55.54797029,  5.75820483],\n",
       "       [15.25705573, 24.39394117, 29.16677074, ..., 18.78641656,\n",
       "        56.2693706 ,  5.203384  ],\n",
       "       [11.44607333, 30.80447557, 35.28298144, ..., 12.38148723,\n",
       "        51.68858211,  6.3092575 ]])"
      ]
     },
     "execution_count": 133,
     "metadata": {},
     "output_type": "execute_result"
    }
   ],
   "source": [
    "from scipy.spatial.distance import cdist\n",
    "dm = cdist(latlong.iloc[:,:2], centroids)\n",
    "dm"
   ]
  },
  {
   "cell_type": "code",
   "execution_count": 155,
   "metadata": {},
   "outputs": [
    {
     "data": {
      "text/html": [
       "<div>\n",
       "<style scoped>\n",
       "    .dataframe tbody tr th:only-of-type {\n",
       "        vertical-align: middle;\n",
       "    }\n",
       "\n",
       "    .dataframe tbody tr th {\n",
       "        vertical-align: top;\n",
       "    }\n",
       "\n",
       "    .dataframe thead th {\n",
       "        text-align: right;\n",
       "    }\n",
       "</style>\n",
       "<table border=\"1\" class=\"dataframe\">\n",
       "  <thead>\n",
       "    <tr style=\"text-align: right;\">\n",
       "      <th></th>\n",
       "      <th>lat_centr</th>\n",
       "      <th>lon_centr</th>\n",
       "      <th>Cluster</th>\n",
       "    </tr>\n",
       "  </thead>\n",
       "  <tbody>\n",
       "    <tr>\n",
       "      <th>0</th>\n",
       "      <td>35.434717</td>\n",
       "      <td>-118.941326</td>\n",
       "      <td>0</td>\n",
       "    </tr>\n",
       "    <tr>\n",
       "      <th>1</th>\n",
       "      <td>31.126369</td>\n",
       "      <td>-82.566062</td>\n",
       "      <td>1</td>\n",
       "    </tr>\n",
       "    <tr>\n",
       "      <th>2</th>\n",
       "      <td>40.351254</td>\n",
       "      <td>-75.644548</td>\n",
       "      <td>2</td>\n",
       "    </tr>\n",
       "    <tr>\n",
       "      <th>3</th>\n",
       "      <td>41.626968</td>\n",
       "      <td>-88.927912</td>\n",
       "      <td>3</td>\n",
       "    </tr>\n",
       "    <tr>\n",
       "      <th>4</th>\n",
       "      <td>32.004639</td>\n",
       "      <td>-96.166884</td>\n",
       "      <td>4</td>\n",
       "    </tr>\n",
       "    <tr>\n",
       "      <th>5</th>\n",
       "      <td>46.979441</td>\n",
       "      <td>-122.663055</td>\n",
       "      <td>5</td>\n",
       "    </tr>\n",
       "    <tr>\n",
       "      <th>6</th>\n",
       "      <td>20.945428</td>\n",
       "      <td>-157.312251</td>\n",
       "      <td>6</td>\n",
       "    </tr>\n",
       "    <tr>\n",
       "      <th>7</th>\n",
       "      <td>37.566779</td>\n",
       "      <td>-108.561624</td>\n",
       "      <td>7</td>\n",
       "    </tr>\n",
       "  </tbody>\n",
       "</table>\n",
       "</div>"
      ],
      "text/plain": [
       "   lat_centr   lon_centr  Cluster\n",
       "0  35.434717 -118.941326        0\n",
       "1  31.126369  -82.566062        1\n",
       "2  40.351254  -75.644548        2\n",
       "3  41.626968  -88.927912        3\n",
       "4  32.004639  -96.166884        4\n",
       "5  46.979441 -122.663055        5\n",
       "6  20.945428 -157.312251        6\n",
       "7  37.566779 -108.561624        7"
      ]
     },
     "execution_count": 155,
     "metadata": {},
     "output_type": "execute_result"
    }
   ],
   "source": [
    "centroids = pd.DataFrame(kmeans.cluster_centers_,columns=['lat_centr','lon_centr'])\n",
    "centroids['Cluster'] = centroids.index.values\n",
    "centroids"
   ]
  },
  {
   "cell_type": "code",
   "execution_count": 151,
   "metadata": {},
   "outputs": [
    {
     "data": {
      "text/html": [
       "<div>\n",
       "<style scoped>\n",
       "    .dataframe tbody tr th:only-of-type {\n",
       "        vertical-align: middle;\n",
       "    }\n",
       "\n",
       "    .dataframe tbody tr th {\n",
       "        vertical-align: top;\n",
       "    }\n",
       "\n",
       "    .dataframe thead th {\n",
       "        text-align: right;\n",
       "    }\n",
       "</style>\n",
       "<table border=\"1\" class=\"dataframe\">\n",
       "  <thead>\n",
       "    <tr style=\"text-align: right;\">\n",
       "      <th></th>\n",
       "      <th>latitude</th>\n",
       "      <th>longitude</th>\n",
       "      <th>Cluster</th>\n",
       "    </tr>\n",
       "  </thead>\n",
       "  <tbody>\n",
       "    <tr>\n",
       "      <th>1263</th>\n",
       "      <td>35.686783</td>\n",
       "      <td>-78.579406</td>\n",
       "      <td>2</td>\n",
       "    </tr>\n",
       "    <tr>\n",
       "      <th>454</th>\n",
       "      <td>28.396288</td>\n",
       "      <td>-81.485061</td>\n",
       "      <td>1</td>\n",
       "    </tr>\n",
       "    <tr>\n",
       "      <th>953</th>\n",
       "      <td>44.730105</td>\n",
       "      <td>-93.214004</td>\n",
       "      <td>3</td>\n",
       "    </tr>\n",
       "    <tr>\n",
       "      <th>670</th>\n",
       "      <td>39.779389</td>\n",
       "      <td>-85.986320</td>\n",
       "      <td>3</td>\n",
       "    </tr>\n",
       "    <tr>\n",
       "      <th>1700</th>\n",
       "      <td>37.639763</td>\n",
       "      <td>-77.511202</td>\n",
       "      <td>2</td>\n",
       "    </tr>\n",
       "    <tr>\n",
       "      <th>143</th>\n",
       "      <td>34.188561</td>\n",
       "      <td>-118.371396</td>\n",
       "      <td>0</td>\n",
       "    </tr>\n",
       "    <tr>\n",
       "      <th>1412</th>\n",
       "      <td>40.210768</td>\n",
       "      <td>-75.498370</td>\n",
       "      <td>2</td>\n",
       "    </tr>\n",
       "    <tr>\n",
       "      <th>1808</th>\n",
       "      <td>42.598540</td>\n",
       "      <td>-88.415849</td>\n",
       "      <td>3</td>\n",
       "    </tr>\n",
       "    <tr>\n",
       "      <th>1143</th>\n",
       "      <td>40.757304</td>\n",
       "      <td>-73.835146</td>\n",
       "      <td>2</td>\n",
       "    </tr>\n",
       "    <tr>\n",
       "      <th>1321</th>\n",
       "      <td>41.629281</td>\n",
       "      <td>-81.429787</td>\n",
       "      <td>2</td>\n",
       "    </tr>\n",
       "  </tbody>\n",
       "</table>\n",
       "</div>"
      ],
      "text/plain": [
       "       latitude   longitude  Cluster\n",
       "1263  35.686783  -78.579406        2\n",
       "454   28.396288  -81.485061        1\n",
       "953   44.730105  -93.214004        3\n",
       "670   39.779389  -85.986320        3\n",
       "1700  37.639763  -77.511202        2\n",
       "143   34.188561 -118.371396        0\n",
       "1412  40.210768  -75.498370        2\n",
       "1808  42.598540  -88.415849        3\n",
       "1143  40.757304  -73.835146        2\n",
       "1321  41.629281  -81.429787        2"
      ]
     },
     "execution_count": 151,
     "metadata": {},
     "output_type": "execute_result"
    }
   ],
   "source": [
    "latlong.sample(10)"
   ]
  },
  {
   "cell_type": "code",
   "execution_count": 156,
   "metadata": {},
   "outputs": [
    {
     "data": {
      "text/plain": [
       "147.7521462668502"
      ]
     },
     "execution_count": 156,
     "metadata": {},
     "output_type": "execute_result"
    }
   ],
   "source": [
    "# Distancia de 1 almancen a una tienda\n",
    "coords_1 = (35.434717, -118.941326)\n",
    "coords_2 = (34.188561,-118.371396)\n",
    "\n",
    "geopy.distance.geodesic(coords_1, coords_2).km"
   ]
  },
  {
   "cell_type": "code",
   "execution_count": 124,
   "metadata": {},
   "outputs": [
    {
     "data": {
      "image/png": "[encoded data removed]",
      "text/plain": [
       "<Figure size 576x396 with 1 Axes>"
      ]
     },
     "metadata": {},
     "output_type": "display_data"
    }
   ],
   "source": [
    "# Grafica\n",
    "plt.scatter( latlong.iloc[:, 1],latlong.iloc[:, 0], c=latlong['Cluster'], s=50, cmap='viridis')\n",
    "\n",
    "centers = kmeans.cluster_centers_\n",
    "plt.scatter( centers[:, 1], centers[:, 0],c='black', s=200, alpha=0.5);"
   ]
  },
  {
   "cell_type": "markdown",
   "metadata": {},
   "source": [
    "**¿Cómo elegiste el número de almacenes?, justifica tu respuesta técnicamente.**\n",
    "\n",
    "Se eligió a partir de la técnica del codo que sirve para determinar el número óptimo de clusters en un conjunto de datos."
   ]
  },
  {
   "cell_type": "markdown",
   "metadata": {},
   "source": [
    "**¿qué librerías nos pueden ayudar a graficar este tipo de datos?**\n",
    "\n",
    "Las librerias que funciona  para visualizar el tipo de datos espaciales son aquellas que consideran esta dimensión de datos por ejemplo:\n",
    "\n",
    "**1. Arcpy**  \n",
    "Tiene como base el programa ArcGis y permite no solo crear mapas sino también manejarlos, convertirlos y producirlos a partir de datos.\n",
    "\n",
    "**2. Geopandas**  \n",
    "Geopandas es muy similar a pandas para hacer transformaciones pero considera los datos espaciales en complemento con Fiona y Shapely\n",
    "\n",
    "**3. GDAL/OGR**  \n",
    "Esta librerias es para trabajar con otros formatos por ejemplo: QGIS, ArcGIS, ERDAS, ENVI, GRASS GIS \n",
    "\n",
    "\n",
    "\n"
   ]
  },
  {
   "cell_type": "markdown",
   "metadata": {},
   "source": [
    "**¿Consideras importante que se grafique en un mapa?, ¿por qué?**\n",
    "Sí es importante ya que si no se cuenta con un contexto geográfico para este tipo de datos, se puede llegar a tener puntos de vista sesgados de la información. Por ejemplo para el caso de este ejercicio, existen puntos muy lejanos que dan la idea de ser outliers, sin embargo gracias al mapa se pudo identificar que son territorios de un mismo país. "
   ]
  },
  {
   "cell_type": "markdown",
   "metadata": {},
   "source": [
    "**Agrega las conclusiones**"
   ]
  },
  {
   "cell_type": "markdown",
   "metadata": {},
   "source": [
    "En este ejercicio se pudo llegar a comprender que la información comprendida y visualizada de manera integral juega un papel importante en la comprensión inicial del problema. Al utilizar un criterio netamente técnico para determinar la cantidad óptima de clusters (método elbow) se pudo identificar que no necesariamente ese número es el mejor ya que se pueden considerar criterios mucho más especificos de acuerdo a los lineamientos de la compañia ya que sin un contexto empresarial es dificil explirar las razones por las que se deciden las cosas."
   ]
  }
 ],
 "metadata": {
  "colab": {
   "provenance": []
  },
  "kernelspec": {
   "display_name": "Python 3 (ipykernel)",
   "language": "python",
   "name": "python3"
  },
  "language_info": {
   "codemirror_mode": {
    "name": "ipython",
    "version": 3
   },
   "file_extension": ".py",
   "mimetype": "text/x-python",
   "name": "python",
   "nbconvert_exporter": "python",
   "pygments_lexer": "ipython3",
   "version": "3.9.7"
  }
 },
 "nbformat": 4,
 "nbformat_minor": 1
}
